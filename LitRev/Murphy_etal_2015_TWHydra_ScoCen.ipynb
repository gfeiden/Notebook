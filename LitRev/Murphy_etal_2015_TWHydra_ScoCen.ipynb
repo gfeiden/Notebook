{
 "cells": [
  {
   "cell_type": "markdown",
   "metadata": {},
   "source": [
    "# New members of the TW Hydrae Association and two accreting M-dwarfs in Scorpius-Centaurus\n",
    "\n",
    "### S. J. Murphy,$^{1,\\,2}$ W. A. Lawson,$^{2}$ J. Bento,$^1$\n",
    "$^1$ ANU, $^2$ University of New South Wales\n",
    "\n",
    "---\n",
    "\n",
    "## Motivation & Purpose\n",
    "\n",
    "## Key Terms\n",
    "\n",
    "## Methods\n",
    "\n",
    "## Results & Conclusions\n",
    "\n",
    "## Analysis"
   ]
  },
  {
   "cell_type": "markdown",
   "metadata": {},
   "source": []
  }
 ],
 "metadata": {
  "kernelspec": {
   "display_name": "Python 2",
   "language": "python",
   "name": "python2"
  },
  "language_info": {
   "codemirror_mode": {
    "name": "ipython",
    "version": 2
   },
   "file_extension": ".py",
   "mimetype": "text/x-python",
   "name": "python",
   "nbconvert_exporter": "python",
   "pygments_lexer": "ipython2",
   "version": "2.7.9"
  }
 },
 "nbformat": 4,
 "nbformat_minor": 0
}
