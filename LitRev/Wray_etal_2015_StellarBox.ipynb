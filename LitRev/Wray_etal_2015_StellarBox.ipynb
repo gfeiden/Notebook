{
 "cells": [
  {
   "cell_type": "markdown",
   "metadata": {},
   "source": [
    "# Simulations of Stellar Magnetoconvection using the Radiative MHD Code \"StellarBox\"\n",
    "\n",
    "### A. A. Wray,$^1$ K. Bensassi,$^{1,\\, 2}$ I. N. Kitiashvili,$^1$ N. N. Mansour,$^1$ A. G. Kosovichev$^3$\n",
    "$^1$ NASA AMES, $^2$ UCLA, $^3$ New Jersey IT\n",
    "\n",
    "---\n",
    "\n",
    "## Motivation & Purpose\n",
    "\n",
    "## Key Terms\n",
    "\n",
    "## Methods\n",
    "\n",
    "## Results & Conclusions\n",
    "\n",
    "## Analysis\n",
    "\n",
    "---\n",
    "\n",
    "_This paper can be found in its entirety on the [arXiv](http://arxiv.org/abs/1507.07999). Views expressed here are my own and do not necessarily represent those of my institution._"
   ]
  },
  {
   "cell_type": "markdown",
   "metadata": {},
   "source": []
  }
 ],
 "metadata": {
  "kernelspec": {
   "display_name": "Python 2",
   "language": "python",
   "name": "python2"
  },
  "language_info": {
   "codemirror_mode": {
    "name": "ipython",
    "version": 2
   },
   "file_extension": ".py",
   "mimetype": "text/x-python",
   "name": "python",
   "nbconvert_exporter": "python",
   "pygments_lexer": "ipython2",
   "version": "2.7.9"
  }
 },
 "nbformat": 4,
 "nbformat_minor": 0
}
