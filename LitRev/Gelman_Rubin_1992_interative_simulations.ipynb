{
 "cells": [
  {
   "cell_type": "markdown",
   "metadata": {},
   "source": [
    "# Inference from Iterative Simulation Using Multiple Sequences\n",
    "\n",
    "### A. Gelman,$^{1}$ D. B. Rubin$^2$\n",
    "$^1$Berkeley, $^2$Harvard\n",
    "\n",
    "---\n",
    "\n",
    "## Motivation & Purpose\n",
    "\n",
    "## Uncertain Terms & Concepts\n",
    "\n",
    "__univariate__ &mdash; an object (function, model, etc) that is dependent on one variable. In contrast to __multivariate__, which is an object that is dependent on the specification of multiple variables.\n",
    "\n",
    "__Gibbs sampling__ &mdash; an Markov chain Monte Carlo algorithm used to sample a multivariate probability distribution. It is a special case of the more general Metropolis-Hastings algorithm and samples each variable of a multivariate model separately, but not indepdently, as each sample is dependent on the value of the other variables. Very lengthy [Wikipedia entry](https://en.wikipedia.org/wiki/Gibbs_sampling).\n",
    "\n",
    "\n",
    "\n",
    "---\n",
    "\n",
    "_This paper can be found in its entirety on [Project Euclid](https://projecteuclid.org/euclid.ss/1177011136). Views expressed here are my own and do not represent those of my institution or my collaborators._"
   ]
  },
  {
   "cell_type": "code",
   "execution_count": null,
   "metadata": {
    "collapsed": true
   },
   "outputs": [],
   "source": []
  }
 ],
 "metadata": {
  "kernelspec": {
   "display_name": "Python 2",
   "language": "python",
   "name": "python2"
  },
  "language_info": {
   "codemirror_mode": {
    "name": "ipython",
    "version": 2
   },
   "file_extension": ".py",
   "mimetype": "text/x-python",
   "name": "python",
   "nbconvert_exporter": "python",
   "pygments_lexer": "ipython2",
   "version": "2.7.10"
  }
 },
 "nbformat": 4,
 "nbformat_minor": 0
}
