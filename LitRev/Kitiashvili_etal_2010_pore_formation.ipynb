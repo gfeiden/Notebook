{
 "cells": [
  {
   "cell_type": "markdown",
   "metadata": {},
   "source": [
    "# Mechanism of Spontaneous Formation of Stable Magnetic Structures on the Sun\n",
    "\n",
    "### I. N. Kitiashvili,$^{1,\\, 2}$ A. G. Kosovichev, $^1$ A. A. Wray,$^3$ N. N. Mansour$^3$ \n",
    "$^1$Stanford, $^2$NORDITA, $^3$NASA Ames\n",
    "\n",
    "---\n",
    "\n",
    "## Motivation & Purpose\n",
    "\n",
    "The authors are trying to understand the mechanism behind the formation of pores and sunspots on the surface of the Sun. In particular, they are trying to address questions such as: What physical conditions preempt the formation of a pore and by what mechanism does an initial pore (or pores) develop into a sunspot? How important are surface phenomena compared to phenomena occuring in the deeper interior?\n",
    "\n",
    "## Uncertain Terms & Concepts\n",
    "\n",
    "__Large-Eddy Simulation__ &mdash; Hydrodynamic simulation that solves the Navier-Stokes equations, but performs a low-pass filter to remove small-scale turbulence. This creates the need for treatment of sub-grid physics (see below) to model the dissipation of energy by small-scale turbulence that was filtered out. [Wikipedia](https://en.wikipedia.org/wiki/Large_eddy_simulation).\n",
    "\n",
    "__Minimal hyperviscosity model__ &mdash; A sub-grid scale turbulence model introduced by Jacoutot et al. (2008).\n",
    "\n",
    "__Mesogranular scale__ &mdash; Meso- being generally indicative of something \"intermediate,\" a mesogranular scale refers to the existence of granulation patterns on a scale incorporating several convective granules (5 &ndash; 10 Mm), though not as large as [supergranulation](https://en.wikipedia.org/wiki/Supergranulation). The latter refering to large scale (~20 Mm) granulation patterns (still debated).\n",
    "\n",
    "## Methods\n",
    "\n",
    "Used [``StellarBox``](http://nbviewer.ipython.org/github/gfeiden/Notebook/blob/master/LitRev/Wray_etal_2015_StellarBox.ipynb), a 3D radiation magneto-hydrodynamic code developed at NASA Ames by A. Wray. As foreshadowed above, the code is a large-eddy simluation with different treatments of sub-grid physics. Here, they adopt the minimal hyperviscosity model. Periodic lateral boundary conditions are implemented and the total amount of magnetic flux is kept constant. \n",
    "\n",
    "Grid resolution is roughly 20 km, with a depth of 5 Mm and a horizontal span of around 12 Mm. Prior to adding magnetic fields, a non-magnetic simluation is run to create a numerically relaxed starting model. \n",
    "\n",
    "## Results & Conclusions\n",
    "\n",
    "Prior to introducing a uniform vertical magnetic field, the numerical simluation showed that vortices may form at the intersection of intergranule lanes ([see Figure 1](http://www.astroexplorer.org/details/apj360605f1)). These vorticies have diameters of approximiately 0.2 &ndash; 1 Mm, with lifetimes of 15 &ndash; 20 minutes. However, the authors note that the lifetime of vortices are difficult to quantify due to their habit of disappearing for a time before reappearing later in the simulation. Within the vortices, the gas is generally cooler and rarified compared to the surrounding intergranule lanes. There appears to be a slight increase in temperature and a significant drop in density within the vortex core. These structures were noted in numerical simulation previously (Stein & Nordlund 1998) and were observed with high-resolution imaging (e.g., Pötzi & Brandt 2005).\n",
    "\n",
    "Introduction of a 1, 10, and 100 G uniform vertical magnetic field led to qualitatively similar conclusions, so the paper focuses on the 100 G simulation. The primary finding was that magnetic flux concentrations tended to develop at the site of a strong vortex. Development from a uniform field to an organized magnetic structure took approximately 60 (solar) minutes. Initially, convective granules pushed magnetic flux tubes toward the intergranule lanes, where the magnetic field strength increased from 100 G to upward of 1 kG.\n",
    "\n",
    "Different concentrations of magnetic flux are then swept up by the vortex, which funnels the magnetic flux toward the vortex core due to the cavity that develops. Addition of magnetic flux causes the cavity to expand and sweep up more magnetic flux (see, also, Stein 2003). This creates a strong downdraft, generating a local enhancement of magnetic flux concentration below the photosphere. Additional magnetic flux concentrations are continually funneled toward the cavity due to its (now) systematically lower gas pressure. Accumulation of magnetic flux below the surface creates a strong localized concentration below the location of the initial vortex core. \n",
    "\n",
    "The resulting magnetic structure is impervious to flows and contains only weak convective flows within. These flows lead to the formation of umbral dots. Surface magnetic field strengths are on the order of 1.5 kG with peak fields of about 6 kG at a depth of 4 Mm. Note that the final sub-surface magnetic structure resembles a cluster-like structure, not a monolithic structure, as suggested by Parker (1979; for stability reasons).\n",
    "\n",
    "Within the resulting structure, the gas pressure remains significantly below the gas pressure outside the structure. This creates a lower density and temperature within the structure as compared to outside. Density enhancements exist below the formal boundary of the structure. However, within the structure there is an apparent increase in the dynamical pressure ($\\rho\\langle{\\bf u}\\rangle^2 / 2$), such that the pressure within the magnetic structure is greater than the pressure outside. Here, it's best to quote the analysis of the authors (emphasis is my own),\n",
    "\n",
    "> In the deeper interior, the gas pressure is sharply reduced, but the dynamic pressure is increased, and these changes significantly exceed the magnetic pressure. This indicates that the magnetic structure formation _is not caused by a thermal collapse effect due to radiative cooling at the surface_, but, probably, a significant suppression of the gas pressure in the deep layers is a key factor.\n",
    "\n",
    "However, the authors are careful to state that this particular analysis should be taken with caution.\n",
    "\n",
    "---\n",
    "\n",
    "## My Thoughts\n",
    "\n",
    "The final surface magnetic field strength is approximately equal to the [equipartition strength](http://nbviewer.ipython.org/github/gfeiden/Notebook/blob/master/Daily/20150803_pressure_reduc_spots.ipynb). Base of the spot at 4 Mm is near the boundary of the super-adiabatic layer. Not entirely sure how the density came to be enhanced below the pore and what impact this has on the eventual redistribution of flux that may become trapped below the pore.\n",
    "\n",
    "Initial questions that came to mind:\n",
    "\n",
    " - In [Figure 4](http://www.astroexplorer.org/details/apj360605f1), how are the boundaries between interior and exterior regions of the magnetic structure defined? \n",
    " \n",
    " - What could it mean to have larger dynamic pressure _within_ the magnetic structure? Would that not make the structure unstable if there is a greater overall pressure (gas + magnetic + dynamic), or is that a mis-interpretation of the data?\n",
    " \n",
    " - Relating those two points, there is a region of stronger flow (and enhanced density) near the point (x, z) = (2.5, -2.5) in Figure 4. Is this included in the interior or exterior calculation of the dynamic pressure? I assume this strongly depends on the definition of the boundaries. \n",
    "\n",
    "---\n",
    "\n",
    "_This paper can be found in its entirety on [ADS](https://adsabs.harvard.edu/abs/2010ApJ...719..307K). Views expressed here are my own and do not represent those of my institution or my collaborators._"
   ]
  },
  {
   "cell_type": "markdown",
   "metadata": {},
   "source": []
  }
 ],
 "metadata": {
  "kernelspec": {
   "display_name": "Python 2",
   "language": "python",
   "name": "python2"
  },
  "language_info": {
   "codemirror_mode": {
    "name": "ipython",
    "version": 2
   },
   "file_extension": ".py",
   "mimetype": "text/x-python",
   "name": "python",
   "nbconvert_exporter": "python",
   "pygments_lexer": "ipython2",
   "version": "2.7.10"
  }
 },
 "nbformat": 4,
 "nbformat_minor": 0
}
