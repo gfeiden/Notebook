{
 "cells": [
  {
   "cell_type": "markdown",
   "metadata": {},
   "source": [
    "# Effect of Spots on a Star's Radius and Luminosity\n",
    "\n",
    "## H. C. Spruit\n",
    "\n",
    "Max-Planck-Institut für Physik und Astrophysik\n",
    "\n",
    "---\n",
    "\n",
    "## Brief Summary and Key Results\n",
    "\n",
    "To be written later.\n",
    "\n",
    "---\n",
    "\n",
    "## Motivation & Purpose\n",
    "\n",
    "Stars with convective envelopes often exhibit observational signatures characteristic of possessing spots on their surface, analagous to sunspots. Spots block flux, but the fate of this blocked flux is not known. Is the flux stored in the convection zone or does it escape through the stellar surface? Following on the author's early work showing that the trapped heat must be re-distributed throughout the convection zone (Spruit [1977, SoPh, 55, 3](http://adsabs.harvard.edu/abs/1977SoPh...55....3S)), this paper addresses the question of whether that re-distributed heat emerges from the stellar surface or whether it is stored within the convection zone over longer time scales.  \n",
    "\n",
    "## Uncertain Terms\n",
    "\n",
    "## Methods\n",
    "\n",
    "---\n",
    "\n",
    "_This paper can be found in its entirety on [ADS](http://adsabs.harvard.edu/abs/1982A%26A...108..348S). Views expressed here are my own and do not necessarily represent those of my institution._"
   ]
  },
  {
   "cell_type": "markdown",
   "metadata": {},
   "source": []
  }
 ],
 "metadata": {
  "kernelspec": {
   "display_name": "Python 2",
   "language": "python",
   "name": "python2"
  },
  "language_info": {
   "codemirror_mode": {
    "name": "ipython",
    "version": 2
   },
   "file_extension": ".py",
   "mimetype": "text/x-python",
   "name": "python",
   "nbconvert_exporter": "python",
   "pygments_lexer": "ipython2",
   "version": "2.7.9"
  }
 },
 "nbformat": 4,
 "nbformat_minor": 0
}
