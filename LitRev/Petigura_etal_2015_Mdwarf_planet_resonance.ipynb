{
 "cells": [
  {
   "cell_type": "markdown",
   "metadata": {},
   "source": [
    "# Two Transiting Earth-Size Planets Near Resonance Orbiting a Nearby Cool Star\n",
    "\n",
    "## E. A. Petigura,$^1$ J. E. Schlieder,$^2$ I. J. M. Crossfield,$^3$ _et al._\n",
    "\n",
    "$^1$Caltech, $^2$NASA Ames, $^3$University of Arizona\n",
    "\n",
    "---\n",
    "\n",
    "## Motivation & Purpose\n",
    "\n",
    "> An open question is whether small planets are intrinsically more numerous around M dwarfs, or if M dwarf systems are more compact.\n",
    "\n",
    "---\n",
    "\n",
    "_This paper can be found in its entirety on the [arXiv](http://arxiv.org/abs/1507.08256). Views expressed here are my own and do not necessarily represent those of my institution._"
   ]
  },
  {
   "cell_type": "markdown",
   "metadata": {},
   "source": []
  }
 ],
 "metadata": {
  "kernelspec": {
   "display_name": "Python 2",
   "language": "python",
   "name": "python2"
  },
  "language_info": {
   "codemirror_mode": {
    "name": "ipython",
    "version": 2
   },
   "file_extension": ".py",
   "mimetype": "text/x-python",
   "name": "python",
   "nbconvert_exporter": "python",
   "pygments_lexer": "ipython2",
   "version": "2.7.9"
  }
 },
 "nbformat": 4,
 "nbformat_minor": 0
}
