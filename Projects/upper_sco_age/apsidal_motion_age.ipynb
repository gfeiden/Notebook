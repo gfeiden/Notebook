{
 "cells": [
  {
   "cell_type": "markdown",
   "metadata": {},
   "source": [
    "# Apsidal Motion Age for HD 144548\n",
    "\n",
    "Attempting to derive an age based on the observed apsidal motion between the A and Ba/Bb components of HD 144548, as reported by Alonso et al. (2015). The technique applied below was outlined by Feiden & Dotter (2013), but is heavily based on the analytical works of Kopal (1978) and Giménez (1985). \n",
    "\n",
    "The first big hurdle is to figure out how to treat the Ba/Bb component as a single star. For an initial attempt, we can assume that the B component is a \"single\" star with a mass equal to the total mass of the binary system with an interior structure constant equal to the weighted mean of the two individual interior structure constants.\n",
    "\n",
    "To compute the mean interior structure constants, we first need to compute the individual weights $c_{2, i}$. For $e = 0$, we have $f(e) = g(e) = 1$. For simplicity, we'll assume that the rotational velocity is equal to the orbital velocity (synchronization)."
   ]
  },
  {
   "cell_type": "code",
   "execution_count": 1,
   "metadata": {
    "collapsed": true
   },
   "outputs": [],
   "source": [
    "def c2(masses, radii, e, a):\n",
    "    f = (1.0 - e**2)**-2\n",
    "    g = (8.0 + 12.0*e**2 + e**4)*f**(5.0/2.0) / 8.0\n",
    "    omega_ratio_sq = (1.0 + e)/(1.0 - e)**3 \n",
    "    \n",
    "    c2_0 = (omega_ratio_sq*(1.0 + masses[1]/masses[0])*f + 15.0*g*masses[1]/masses[0])*(radii[0]/a)**5\n",
    "    c2_1 = (omega_ratio_sq*(1.0 + masses[0]/masses[1])*f + 15.0*g*masses[0]/masses[1])*(radii[1]/a)**5\n",
    "    \n",
    "    return c2_0, c2_1"
   ]
  },
  {
   "cell_type": "code",
   "execution_count": 6,
   "metadata": {
    "collapsed": true
   },
   "outputs": [],
   "source": [
    "# parameters for the orbit of Ba/Bb\n",
    "e = 0.0\n",
    "a = 7.249776\n",
    "masses = [0.984, 0.944]"
   ]
  },
  {
   "cell_type": "code",
   "execution_count": 4,
   "metadata": {
    "collapsed": false
   },
   "outputs": [],
   "source": [
    "c2_B = c2(masses, radii, e, a)"
   ]
  },
  {
   "cell_type": "markdown",
   "metadata": {},
   "source": [
    "What complicates the issue is that the interior structure constants for the B components also vary as a function of age, so we need to compute a mean mass track using the $c_2$ coefficients and the individual $k_2$ values."
   ]
  },
  {
   "cell_type": "code",
   "execution_count": 5,
   "metadata": {
    "collapsed": true
   },
   "outputs": [],
   "source": [
    "import numpy as np"
   ]
  },
  {
   "cell_type": "code",
   "execution_count": 7,
   "metadata": {
    "collapsed": true
   },
   "outputs": [],
   "source": [
    "trk_Ba = np.genfromtxt('/Users/grefe950/evolve/dmestar/trk/gs98/p000/a0/amlt1884/m0980_GS98_p000_p0_y28_mlt1.884.trk')\n",
    "trk_Bb = np.genfromtxt('/Users/grefe950/evolve/dmestar/trk/gs98/p000/a0/amlt1884/m0940_GS98_p000_p0_y28_mlt1.884.trk')"
   ]
  },
  {
   "cell_type": "markdown",
   "metadata": {},
   "source": [
    "Create tracks with equally spaced time steps."
   ]
  },
  {
   "cell_type": "code",
   "execution_count": 8,
   "metadata": {
    "collapsed": true
   },
   "outputs": [],
   "source": [
    "from scipy.interpolate import interp1d"
   ]
  },
  {
   "cell_type": "code",
   "execution_count": 13,
   "metadata": {
    "collapsed": false
   },
   "outputs": [],
   "source": [
    "log10_age = np.arange(6.0, 8.0, 0.01)  # log10(age/yr)\n",
    "ages = 10**log10_age\n",
    "\n",
    "icurve = interp1d(trk_Ba[:,0], trk_Ba, kind='linear', axis=0)\n",
    "new_trk_Ba = icurve(ages)\n",
    "\n",
    "icurve = interp1d(trk_Bb[:,0], trk_Bb, kind='linear', axis=0)\n",
    "new_trk_Bb = icurve(ages)"
   ]
  },
  {
   "cell_type": "markdown",
   "metadata": {},
   "source": [
    "Now, compute the $c_2$ coefficients for each age."
   ]
  },
  {
   "cell_type": "code",
   "execution_count": 14,
   "metadata": {
    "collapsed": true
   },
   "outputs": [],
   "source": [
    "mean_trk_B = np.empty((len(ages), 3))\n",
    "for i, age in enumerate(ages):\n",
    "    c2s = c2(masses, [10**new_trk_Ba[i, 4], 10**new_trk_Bb[i, 4]], e, a)\n",
    "    avg_k2 = (c2s[0]*new_trk_Ba[i, 10] + c2s[1]*new_trk_Bb[i, 10])/(sum(c2s))\n",
    "    \n",
    "    mean_trk_B[i] = np.array([age, 10**new_trk_Ba[i, 4] + 10**new_trk_Bb[i, 4], avg_k2])"
   ]
  },
  {
   "cell_type": "markdown",
   "metadata": {},
   "source": [
    "With that, we have an estimate for the mean B component properties as a function of age. One complicating factor is the \"radius\" of the average B component. If we are modeling the potential created by the Ba/Bb components as that of a single star, we need to assume that the A component never enters into any region of the combined potential that is dominated by either component.\n",
    "\n",
    "Unfortunately, it is very likely that the ratio of the Ba/Bb binary \"radius\" to the semi-major axis of the A/B orbit is going to be a dominant contributor to the apsidal motion.\n",
    "\n",
    "## Attempt 1: Semi-major axis + diameter of B component\n",
    "\n",
    "Let's define orbtial properties of the (A, B) system."
   ]
  },
  {
   "cell_type": "code",
   "execution_count": 54,
   "metadata": {
    "collapsed": true
   },
   "outputs": [],
   "source": [
    "e2 = 0.2652\n",
    "a2 = 66.2319\n",
    "masses_2 = [1.44, 1.928]"
   ]
  },
  {
   "cell_type": "code",
   "execution_count": 55,
   "metadata": {
    "collapsed": false
   },
   "outputs": [],
   "source": [
    "trk_A = np.genfromtxt('/Users/grefe950/evolve/dmestar/trk/gs98/p000/a0/amlt1884/m1450_GS98_p000_p0_y28_mlt1.884.trk', \n",
    "                      usecols=(0,1,2,3,4,5,6,7,8,9,10))"
   ]
  },
  {
   "cell_type": "code",
   "execution_count": 56,
   "metadata": {
    "collapsed": true
   },
   "outputs": [],
   "source": [
    "icurve = interp1d(trk_A[:,0], trk_A, kind='linear', axis=0)\n",
    "new_trk_A = icurve(ages)"
   ]
  },
  {
   "cell_type": "markdown",
   "metadata": {},
   "source": [
    "We are now in a position to compute the classical apsidal motion rate from the combined A/B tracks."
   ]
  },
  {
   "cell_type": "code",
   "execution_count": 57,
   "metadata": {
    "collapsed": false
   },
   "outputs": [],
   "source": [
    "cl_apsidal_motion_rate = np.empty((len(ages), 2))\n",
    "for i, age in enumerate(ages):\n",
    "    c2_AB = c2(masses_2, [10**new_trk_A[i, 4], a + mean_trk_B[i, 1]/2.0], e2, a2)\n",
    "    cl_apsidal_motion_rate[i] = np.array([age, 360.0*(c2_AB[0]*new_trk_A[i, 10] + c2_AB[1]*mean_trk_B[i, 2])])"
   ]
  },
  {
   "cell_type": "code",
   "execution_count": 58,
   "metadata": {
    "collapsed": false
   },
   "outputs": [],
   "source": [
    "GR_apsidal_motion_rate = 5.45e-4*(sum(masses)/33.945)**(2./3.) / (1.0 - e2**2)  # Giménez (1985)"
   ]
  },
  {
   "cell_type": "code",
   "execution_count": 59,
   "metadata": {
    "collapsed": false
   },
   "outputs": [
    {
     "data": {
      "text/plain": [
       "8.662082500385364e-05"
      ]
     },
     "execution_count": 59,
     "metadata": {},
     "output_type": "execute_result"
    }
   ],
   "source": [
    "GR_apsidal_motion_rate"
   ]
  },
  {
   "cell_type": "markdown",
   "metadata": {},
   "source": [
    "One can see from this that the general relativistic component is a very small contribution to the total apsidal motion of the system. \n",
    "\n",
    "Let's look at the evolution of the apsidal motion for the A/B binary system."
   ]
  },
  {
   "cell_type": "code",
   "execution_count": 60,
   "metadata": {
    "collapsed": true
   },
   "outputs": [],
   "source": [
    "%matplotlib inline\n",
    "import matplotlib.pyplot as plt"
   ]
  },
  {
   "cell_type": "code",
   "execution_count": 61,
   "metadata": {
    "collapsed": false
   },
   "outputs": [
    {
     "data": {
      "text/plain": [
       "[<matplotlib.lines.Line2D at 0x10c22fcd0>]"
      ]
     },
     "execution_count": 61,
     "metadata": {},
     "output_type": "execute_result"
    },
    {
     "data": {
      "image/png": "[encoded data removed]",
      "text/plain": [
       "<matplotlib.figure.Figure at 0x10661c910>"
      ]
     },
     "metadata": {},
     "output_type": "display_data"
    }
   ],
   "source": [
    "fig, ax = plt.subplots(1, 1, figsize=(8., 8.), sharex=True)\n",
    "\n",
    "ax.grid(True)\n",
    "ax.tick_params(which='major', axis='both', length=15., labelsize=18.)\n",
    "ax.set_xlabel('Age (yr)', fontsize=20., family='serif')\n",
    "ax.set_ylabel('Apsidal Motion Rate (deg / cycle)', fontsize=20., family='serif')\n",
    "ax.semilogx(cl_apsidal_motion_rate[:, 0], cl_apsidal_motion_rate[:, 1], '-', lw=2, c='#b22222')"
   ]
  },
  {
   "cell_type": "markdown",
   "metadata": {},
   "source": [
    "How sensitive is this to the properties of the A component, which are fairly uncertain?"
   ]
  },
  {
   "cell_type": "code",
   "execution_count": null,
   "metadata": {
    "collapsed": true
   },
   "outputs": [],
   "source": []
  }
 ],
 "metadata": {
  "kernelspec": {
   "display_name": "Python 2",
   "language": "python",
   "name": "python2"
  },
  "language_info": {
   "codemirror_mode": {
    "name": "ipython",
    "version": 2
   },
   "file_extension": ".py",
   "mimetype": "text/x-python",
   "name": "python",
   "nbconvert_exporter": "python",
   "pygments_lexer": "ipython2",
   "version": "2.7.9"
  }
 },
 "nbformat": 4,
 "nbformat_minor": 0
}
