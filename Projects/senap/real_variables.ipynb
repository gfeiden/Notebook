{
 "cells": [
  {
   "cell_type": "markdown",
   "metadata": {},
   "source": [
    "# Identifying Hard Coded Single Precision Variables\n",
    "\n",
    "In looking to merge MARCS with DSEP, it is immediately clear that the two codes are incompatible when it comes to passing variables. MARCS is written with single precision declarations for real variables and DSEP is written with double precision declarations. Type conversions can be carried out in several different ways, but perhaps it is worth upgrading MARCS to double precision. However, while it is simple enough to redefine real declarations to `real(dp)`, where `dp` is a double precision type declaration, there are many instances of hard coded single precision variables. That is, variables defined with `X.XeYYY` instead of `X.XdYYY`. Finding such declarations is non-trivial."
   ]
  },
  {
   "cell_type": "code",
   "execution_count": 1,
   "metadata": {
    "collapsed": true
   },
   "outputs": [],
   "source": [
    "import fileinput as fi"
   ]
  },
  {
   "cell_type": "markdown",
   "metadata": {},
   "source": [
    "An initial attempt to extract all instances of hard coded single precision real variables was done using `grep` and a regular expression,\n",
    "```bash\n",
    "grep -i \"[0-9].e.[0-9]\" *.f > marcs_single_precision.txt\n",
    "```\n",
    "where `-i` flags the result to be case insensitive. Let's read in the result."
   ]
  },
  {
   "cell_type": "code",
   "execution_count": 2,
   "metadata": {
    "collapsed": true
   },
   "outputs": [],
   "source": [
    "single_precision_vars = [line.rstrip('\\n') for line in fi.input('marcs_single_precision.txt')]"
   ]
  },
  {
   "cell_type": "markdown",
   "metadata": {},
   "source": [
    "Take a quick look at the first few lines,"
   ]
  },
  {
   "cell_type": "code",
   "execution_count": 3,
   "metadata": {
    "collapsed": false
   },
   "outputs": [
    {
     "name": "stdout",
     "output_type": "stream",
     "text": [
      "['CIAh2h.f:75:        propac=1.e-30', 'CIAh2h2.f:75:        propac=1.e-30', 'CIAh2he.f:75:        propac=1.e-30', 'CIAhhe.f:75:        propac=1.e-30', 'archiv.f:156:cc        print 215, k,log10(max(1.e-30,xmettryck(k,1))),']\n"
     ]
    }
   ],
   "source": [
    "print single_precision_vars[:5]"
   ]
  },
  {
   "cell_type": "markdown",
   "metadata": {},
   "source": [
    "Everything looks reasonble, but I know for a fact that scientific notation can also be declared in `FORMAT` statements. Therefore, it's necessary to remove these from the entry list."
   ]
  },
  {
   "cell_type": "code",
   "execution_count": 4,
   "metadata": {
    "collapsed": false
   },
   "outputs": [],
   "source": [
    "single_precision_vars = [line for line in single_precision_vars if line.lower().find('format') == -1]"
   ]
  },
  {
   "cell_type": "markdown",
   "metadata": {},
   "source": [
    "Make sure we haven't removed valid entries, as compared to the initial output."
   ]
  },
  {
   "cell_type": "code",
   "execution_count": 5,
   "metadata": {
    "collapsed": false
   },
   "outputs": [
    {
     "name": "stdout",
     "output_type": "stream",
     "text": [
      "['CIAh2h.f:75:        propac=1.e-30', 'CIAh2h2.f:75:        propac=1.e-30', 'CIAh2he.f:75:        propac=1.e-30', 'CIAhhe.f:75:        propac=1.e-30', 'archiv.f:156:cc        print 215, k,log10(max(1.e-30,xmettryck(k,1))),']\n"
     ]
    }
   ],
   "source": [
    "print single_precision_vars[:5]"
   ]
  },
  {
   "cell_type": "markdown",
   "metadata": {},
   "source": [
    "We can now organize the data by subroutine and output the lines on which a single precision real is expcted to occur. There will be false positives, but those can be checked by eye."
   ]
  },
  {
   "cell_type": "code",
   "execution_count": 6,
   "metadata": {
    "collapsed": false
   },
   "outputs": [],
   "source": [
    "file_stream = open('single_precision_index.txt', 'w')\n",
    "routine = ''\n",
    "for line in single_precision_vars:\n",
    "    line = line.split(':')\n",
    "    if line[0] == routine:\n",
    "        file_stream.write('\\t{:4s} :: {:50s}\\n'.format(line[1].strip(), line[2].strip()))\n",
    "    else:\n",
    "        routine = line[0]\n",
    "        file_stream.write('\\n\\n{:s}\\n\\n'.format(line[0].rstrip('.f').upper()))\n",
    "        file_stream.write('\\t{:4s} :: {:70s}\\n'.format(line[1].strip(), line[2].strip()))\n",
    "file_stream.close()"
   ]
  },
  {
   "cell_type": "markdown",
   "metadata": {},
   "source": [
    "Markdown is also a helpful format."
   ]
  },
  {
   "cell_type": "code",
   "execution_count": 7,
   "metadata": {
    "collapsed": true
   },
   "outputs": [],
   "source": [
    "file_stream = open('single_precision_index.md', 'w')\n",
    "routine = ''\n",
    "for line in single_precision_vars:\n",
    "    line = line.split(':')\n",
    "    if line[0] == routine:\n",
    "        file_stream.write('\\t{:4s} :: {:50s}\\n'.format(line[1].strip(), line[2].strip()))\n",
    "    else:\n",
    "        routine = line[0]\n",
    "        file_stream.write('\\n\\n# {:s}\\n\\n'.format(line[0].rstrip('.f').upper()))\n",
    "        file_stream.write('\\t{:4s} :: {:70s}\\n'.format(line[1].strip(), line[2].strip()))\n",
    "file_stream.close()"
   ]
  },
  {
   "cell_type": "markdown",
   "metadata": {},
   "source": []
  }
 ],
 "metadata": {
  "kernelspec": {
   "display_name": "Python 2",
   "language": "python",
   "name": "python2"
  },
  "language_info": {
   "codemirror_mode": {
    "name": "ipython",
    "version": 2
   },
   "file_extension": ".py",
   "mimetype": "text/x-python",
   "name": "python",
   "nbconvert_exporter": "python",
   "pygments_lexer": "ipython2",
   "version": "2.7.9"
  }
 },
 "nbformat": 4,
 "nbformat_minor": 0
}
