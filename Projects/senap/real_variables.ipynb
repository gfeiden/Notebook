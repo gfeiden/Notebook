{
 "cells": [
  {
   "cell_type": "markdown",
   "metadata": {},
   "source": [
    "# Identifying Hard Coded Single Precision Variables\n",
    "\n",
    "In looking to merge MARCS with DSEP, it is immediately clear that the two codes are incompatible when it comes to passing variables. MARCS is written with single precision declarations for real variables and DSEP is written with double precision declarations. Type conversions can be carried out in several different ways, but perhaps it is worth upgrading MARCS to double precision. However, while it is simple enough to redefine real declarations to `real(dp)`, where `dp` is a double precision type declaration, there are many instances of hard coded single precision variables. That is, variables defined with `X.XeYYY` instead of `X.XdYYY`. Finding such declarations is non-trivial."
   ]
  },
  {
   "cell_type": "code",
   "execution_count": 1,
   "metadata": {
    "collapsed": true
   },
   "outputs": [],
   "source": [
    "import fileinput as fi"
   ]
  },
  {
   "cell_type": "markdown",
   "metadata": {},
   "source": [
    "An initial attempt to extract all instances of hard coded single precision real variables was done using `grep` and a regular expression,\n",
    "```bash\n",
    "grep -i \"[0-9].e.[0-9]\" *.f > marcs_single_precision.txt\n",
    "```\n",
    "where `-i` flags the result to be case insensitive. Let's read in the result."
   ]
  },
  {
   "cell_type": "code",
   "execution_count": 2,
   "metadata": {
    "collapsed": true
   },
   "outputs": [],
   "source": [
    "single_precision_vars = [line.rstrip('\\n') for line in fi.input('marcs_single_precision.txt')]"
   ]
  },
  {
   "cell_type": "markdown",
   "metadata": {},
   "source": [
    "Take a quick look at the first few lines,"
   ]
  },
  {
   "cell_type": "code",
   "execution_count": 3,
   "metadata": {
    "collapsed": false
   },
   "outputs": [
    {
     "name": "stdout",
     "output_type": "stream",
     "text": [
      "['CIAh2h.f:75:        propac=1.e-30', 'CIAh2h2.f:75:        propac=1.e-30', 'CIAh2he.f:75:        propac=1.e-30', 'CIAhhe.f:75:        propac=1.e-30', 'archiv.f:156:cc        print 215, k,log10(max(1.e-30,xmettryck(k,1))),']\n"
     ]
    }
   ],
   "source": [
    "print single_precision_vars[:5]"
   ]
  },
  {
   "cell_type": "markdown",
   "metadata": {},
   "source": [
    "Everything looks reasonble, but I know for a fact that scientific notation can also be declared in `FORMAT` statements. Therefore, it's necessary to remove these from the entry list."
   ]
  },
  {
   "cell_type": "code",
   "execution_count": 4,
   "metadata": {
    "collapsed": false
   },
   "outputs": [],
   "source": [
    "single_precision_vars = [line for line in single_precision_vars if line.lower().find('format') == -1]"
   ]
  },
  {
   "cell_type": "markdown",
   "metadata": {},
   "source": [
    "Make sure we haven't removed valid entries, as compared to the initial output."
   ]
  },
  {
   "cell_type": "code",
   "execution_count": 5,
   "metadata": {
    "collapsed": false
   },
   "outputs": [
    {
     "name": "stdout",
     "output_type": "stream",
     "text": [
      "['CIAh2h.f:75:        propac=1.e-30', 'CIAh2h2.f:75:        propac=1.e-30', 'CIAh2he.f:75:        propac=1.e-30', 'CIAhhe.f:75:        propac=1.e-30', 'archiv.f:156:cc        print 215, k,log10(max(1.e-30,xmettryck(k,1))),']\n"
     ]
    }
   ],
   "source": [
    "print single_precision_vars[:5]"
   ]
  },
  {
   "cell_type": "markdown",
   "metadata": {},
   "source": [
    "We can now organize the data by subroutine and output the lines on which a single precision real is expcted to occur. There will be false positives, but those can be checked by eye."
   ]
  },
  {
   "cell_type": "code",
   "execution_count": 6,
   "metadata": {
    "collapsed": false
   },
   "outputs": [],
   "source": [
    "file_stream = open('single_precision_index.txt', 'w')\n",
    "routine = ''\n",
    "for line in single_precision_vars:\n",
    "    line = line.split(':')\n",
    "    if line[0] == routine:\n",
    "        file_stream.write('\\t{:4s} :: {:50s}\\n'.format(line[1].strip(), line[2].strip()))\n",
    "    else:\n",
    "        routine = line[0]\n",
    "        file_stream.write('\\n\\n{:s}\\n\\n'.format(line[0].rstrip('.f').upper()))\n",
    "        file_stream.write('\\t{:4s} :: {:70s}\\n'.format(line[1].strip(), line[2].strip()))\n",
    "file_stream.close()"
   ]
  },
  {
   "cell_type": "markdown",
   "metadata": {},
   "source": [
    "Markdown is also a helpful format."
   ]
  },
  {
   "cell_type": "code",
   "execution_count": 7,
   "metadata": {
    "collapsed": true
   },
   "outputs": [],
   "source": [
    "file_stream = open('single_precision_index.md', 'w')\n",
    "routine = ''\n",
    "for line in single_precision_vars:\n",
    "    line = line.split(':')\n",
    "    if line[0] == routine:\n",
    "        file_stream.write('\\t{:4s} :: {:50s}\\n'.format(line[1].strip(), line[2].strip()))\n",
    "    else:\n",
    "        routine = line[0]\n",
    "        file_stream.write('\\n\\n# {:s}\\n\\n'.format(line[0].rstrip('.f').upper()))\n",
    "        file_stream.write('\\t{:4s} :: {:70s}\\n'.format(line[1].strip(), line[2].strip()))\n",
    "file_stream.close()"
   ]
  },
  {
   "cell_type": "markdown",
   "metadata": {},
   "source": [
    "---\n",
    "\n",
    "Changing these can be done by a single person, but would perhaps benefit from multiple editors working on a subset of the declarations."
   ]
  },
  {
   "cell_type": "code",
   "execution_count": 9,
   "metadata": {
    "collapsed": false
   },
   "outputs": [
    {
     "name": "stdout",
     "output_type": "stream",
     "text": [
      "There are 287 lines that need editing.\n"
     ]
    }
   ],
   "source": [
    "print \"There are {:.0f} lines that need editing.\".format(len(single_precision_vars))"
   ]
  },
  {
   "cell_type": "markdown",
   "metadata": {},
   "source": [
    "Which means that, split among 3 people, it's approximately 96 lines of code per person. There are some routines that contain significantly more lines that require editing, as compared to others. We can create a histogram showing number of lines per subroutine."
   ]
  },
  {
   "cell_type": "code",
   "execution_count": 34,
   "metadata": {
    "collapsed": false
   },
   "outputs": [
    {
     "data": {
      "text/plain": [
       "['', 0]"
      ]
     },
     "execution_count": 34,
     "metadata": {},
     "output_type": "execute_result"
    }
   ],
   "source": [
    "N_lines = []\n",
    "routine = ''\n",
    "n = 0\n",
    "for line in single_precision_vars:\n",
    "    line = line.split(':')\n",
    "    if line[0] == routine:\n",
    "        n += 1\n",
    "    else:\n",
    "        # output previous routine count\n",
    "        N_lines.append([routine, n])\n",
    "        n = 0\n",
    "        \n",
    "        # start a new routine\n",
    "        routine = line[0]\n",
    "        n += 1\n",
    "N_lines.pop(0)"
   ]
  },
  {
   "cell_type": "markdown",
   "metadata": {},
   "source": [
    "Now we should aim to sort and then distribute routines to be modified."
   ]
  },
  {
   "cell_type": "code",
   "execution_count": 35,
   "metadata": {
    "collapsed": false
   },
   "outputs": [],
   "source": [
    "N_lines = sorted(N_lines, key = lambda routine: routine[1])"
   ]
  },
  {
   "cell_type": "code",
   "execution_count": 40,
   "metadata": {
    "collapsed": false
   },
   "outputs": [
    {
     "name": "stdout",
     "output_type": "stream",
     "text": [
      "[['CIAh2h.f', 1], ['CIAh2h2.f', 1], ['CIAh2he.f', 1], ['CIAhhe.f', 1], ['bpl.f', 1], ['checkpartf.f', 1], ['gausi.f', 1], ['momeqcheck.f', 1], ['scale.f', 1], ['setdis.f', 1], ['oslistmo.f', 2], ['osmet_35.f', 2], ['osmet_separate_35.f', 2], ['pemake.f', 2], ['injon.f', 3], ['molfys.f', 3], ['startm.f', 3], ['inabs.f', 4], ['tranfr.f', 4], ['archiv.f', 5], ['osopac_35.f', 5], ['die_pe.f', 7], ['die_pe_lu.f', 7], ['jon.f', 7], ['osmainb.f', 8], ['eqmol_pe.f', 10], ['eqmol_pe_lu.f', 10], ['ossolve.f', 10], ['hydropacmodif.f', 32], ['detabs.f', 43], ['hlinopbpz.f', 53], ['hlinopmodif.f', 53]]\n",
      "\n",
      " \t There are 32 subroutines that need editing.\n"
     ]
    }
   ],
   "source": [
    "print N_lines\n",
    "print \"\\n \\t There are {:.0f} subroutines that need editing.\".format(len(N_lines))"
   ]
  },
  {
   "cell_type": "markdown",
   "metadata": {},
   "source": [
    "This is not too unreasonable for a single person, but additional checking for single precision declarations and functions would be beneficial. This requires that we also consider the total number of lines in each file that needs to be edited."
   ]
  },
  {
   "cell_type": "code",
   "execution_count": 60,
   "metadata": {
    "collapsed": true
   },
   "outputs": [],
   "source": [
    "lines_in_routines = [line.split() for line in fi.input('marcs_routines_nlines.txt')]"
   ]
  },
  {
   "cell_type": "code",
   "execution_count": 61,
   "metadata": {
    "collapsed": false
   },
   "outputs": [],
   "source": [
    "lines_in_routines = [[x[1], int(x[0])] for x in lines_in_routines]"
   ]
  },
  {
   "cell_type": "markdown",
   "metadata": {},
   "source": [
    "We now have a record for number of single precision statements to be changed and the number of lines in the entire routine."
   ]
  },
  {
   "cell_type": "code",
   "execution_count": 62,
   "metadata": {
    "collapsed": false
   },
   "outputs": [],
   "source": [
    "total_lines = []\n",
    "for routine in lines_in_routines:\n",
    "    n_edits = [x[1] for x in N_lines if x[0] == routine[0]]\n",
    "    if n_edits == []:\n",
    "        n_edits = 0\n",
    "    else:\n",
    "        n_edits = int(n_edits[0])\n",
    "    total_lines.append([routine[0], routine[1] + n_edits])"
   ]
  },
  {
   "cell_type": "code",
   "execution_count": 65,
   "metadata": {
    "collapsed": false
   },
   "outputs": [],
   "source": [
    "total_lines = sorted(total_lines, key = lambda routine: routine[1])"
   ]
  },
  {
   "cell_type": "markdown",
   "metadata": {},
   "source": [
    "We've now combined the total number of lines in each file with the number of edits to fixed single precision constants that need to be made. Of course, there are instances where function calls need to be verified, but one expects this is somewhat proportional to the number of lines in the entire file."
   ]
  },
  {
   "cell_type": "code",
   "execution_count": 66,
   "metadata": {
    "collapsed": false
   },
   "outputs": [
    {
     "name": "stdout",
     "output_type": "stream",
     "text": [
      "\t There are 77 subroutines that need checking.\n"
     ]
    }
   ],
   "source": [
    "print \"\\t There are {:.0f} subroutines that need checking.\".format(len(total_lines))"
   ]
  },
  {
   "cell_type": "markdown",
   "metadata": {},
   "source": [
    "If divided equally, that means each of 3 people will need to check 26 separate subroutines. However, these should we weighted so that each person searches roughly the same number of routines and the same number of lines."
   ]
  },
  {
   "cell_type": "code",
   "execution_count": 67,
   "metadata": {
    "collapsed": true
   },
   "outputs": [],
   "source": [
    "person_1 = []\n",
    "person_2 = []\n",
    "person_3 = []\n",
    "for i, routine in enumerate(total_lines):\n",
    "    if i % 3 == 0:\n",
    "        person_1.append(routine)\n",
    "    elif i % 3 == 1:\n",
    "        person_2.append(routine)\n",
    "    elif i % 3 == 2: \n",
    "        person_3.append(routine)\n",
    "    else:\n",
    "        print \"Whoops, misplaced\", routine"
   ]
  },
  {
   "cell_type": "markdown",
   "metadata": {},
   "source": [
    "Now, let's confirm that everything looks about equal."
   ]
  },
  {
   "cell_type": "code",
   "execution_count": 69,
   "metadata": {
    "collapsed": false
   },
   "outputs": [
    {
     "name": "stdout",
     "output_type": "stream",
     "text": [
      "26 26 25\n"
     ]
    }
   ],
   "source": [
    "print len(person_1), len(person_2), len(person_3)"
   ]
  }
 ],
 "metadata": {
  "kernelspec": {
   "display_name": "Python 2",
   "language": "python",
   "name": "python2"
  },
  "language_info": {
   "codemirror_mode": {
    "name": "ipython",
    "version": 2
   },
   "file_extension": ".py",
   "mimetype": "text/x-python",
   "name": "python",
   "nbconvert_exporter": "python",
   "pygments_lexer": "ipython2",
   "version": "2.7.9"
  }
 },
 "nbformat": 4,
 "nbformat_minor": 0
}
