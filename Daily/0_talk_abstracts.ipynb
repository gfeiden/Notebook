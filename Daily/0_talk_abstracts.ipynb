{
 "cells": [
  {
   "cell_type": "markdown",
   "metadata": {},
   "source": [
    "# Talk Abstracts\n",
    "\n",
    "Abstracts, both in progress and submitted, for (proposed) talks, either for invited or contributed conference talks, or seminars / colloquia. Entries should be ordered with the most recent first."
   ]
  },
  {
   "cell_type": "markdown",
   "metadata": {},
   "source": [
    "---"
   ]
  },
  {
   "cell_type": "markdown",
   "metadata": {},
   "source": [
    "### Early Stellar Evolution and the Role of Magnetic Fields\n",
    "\n",
    "Georgia Regional Astronomy Meeting 2016 (GSU, Atlanta, GA); Contributed Talk (28 -- 29 Oct 2016)\n",
    "\n",
    "__Abstract__\n",
    "\n",
    "Absolute stellar ages are some of the most sought after astrophysical quantities, especially for identifiably young systems, which provide our only constraints on time-dependent features of planet formation and evolution. However, accurate ages for young stars remain elusive due to our reliance on stellar evolution models that are beset with problems at ages younger than 100 Myr. I will highlight the most pressing issues facing young stellar models along with efforts to explain these problems by considering effects that strong magnetic fields may have on the interior structure and observable properties of young stars. To support this explanation, I will present several lines of evidence, including recent work rectifying multiple age discrepancies noted for the 10 Myr old Upper Scorpius OB Association. I will conclude with a discussion of uncertainties in our current understanding about how magnetic fields influence early stellar evolution and new efforts to relieve them."
   ]
  },
  {
   "cell_type": "markdown",
   "metadata": {},
   "source": [
    "---"
   ]
  },
  {
   "cell_type": "markdown",
   "metadata": {},
   "source": [
    "### Magnetic Fields in Early Stellar Evolution: The Case of Upper Scorpius\n",
    "\n",
    "NORDITA, Astrophysics Seminar (09 December 2015)\n",
    "\n",
    "__Abstract__\n",
    "\n",
    "Absolute ages estimated for identifiably young stellar populations strongly depend on which stars are used in the age dating analysis. Cooler K- and M-type stars typically yield ages that are systematically younger by a factor of two compared to warmer A-, F-, and G-type stars. In this talk, I will highlight efforts to understand these age discordancies as the result of magnetic inhibition of convection in cool young stars. Specifically, I will focus on the adoption of magnetic stellar evolution models to derive a consistent 10 Myr age for the Upper Scorpius subgroup of the Scorpius-Centaurus OB Association. Multiple pieces of evidence in support of this explanation will be presented along with several remaining problems and uncertainties. "
   ]
  },
  {
   "cell_type": "markdown",
   "metadata": {},
   "source": [
    "---"
   ]
  },
  {
   "cell_type": "markdown",
   "metadata": {},
   "source": [
    "### Probing the Properties of Stellar Convection with Statistical Inference\n",
    "\n",
    "Uppsala University, Complex Systems Lunch Talk (24 November 2015)\n",
    "\n",
    "__Abstract__\n",
    "\n",
    "A majority of stars in the Galaxy are low-mass main-sequence stars. These stars are actively fusing hydrogen in their core and have an outer convection zone. Convection is an important physical process that regulates the transport of energy within low-mass stars, controlling the whole of a star's interior structure and many of a star's observable properties. Briefly, I will review the basic physics of stellar convection along with a simple phenomenological description used in stellar interior structure models. Under the simplified model of convection, convective properties are typically assumed to be qualitatively similar to properties of convection in the Sun within some scaling factor. I'll present results from ongoing investigations that leverage high precision data and statistical inference to provide empirical constraints on the properties of convection in other stars within the framework of stellar structure models. Particular attention will be given to the statistical techniques and the robustness of the results."
   ]
  },
  {
   "cell_type": "markdown",
   "metadata": {},
   "source": [
    "---"
   ]
  },
  {
   "cell_type": "markdown",
   "metadata": {},
   "source": [
    "### Starspots and their Influence on Stellar Structure\n",
    "\n",
    "Boston University, Tuesday Lunch Talk (29 September 2015)\n",
    "\n",
    "__Abstract__\n",
    "\n",
    "Young low-mass stars often exhibit signatures of temperature anisotropies on their surface. These starspots are thought to be magnetic in origin and therefore analogous to sunspots. Despite the apparent prevalence of magnetic fields and starspots on young stars, little is known about the role these phenomena play in governing stellar structure and evolution. Briefly, I will review our current understanding about the formation of sunspots and, by analogy, starspots. I will then present results of efforts to understand the influence of starspots on stellar structure and evolution. Finally, I will highlight potential implications for inferred ages of young stellar systems. "
   ]
  },
  {
   "cell_type": "markdown",
   "metadata": {},
   "source": [
    "---"
   ]
  },
  {
   "cell_type": "markdown",
   "metadata": {},
   "source": [
    "### Convection in Low-Mass Stellar Evolution Models\n",
    "\n",
    "Harvard-Smithsonian Center for Astrophysics, Smale-Scale Phenomenon Seminar (28 September 2015)\n",
    "\n",
    "__Abstract__\n",
    "\n",
    "I will review the basic physics of stellar convection and contrast it with mixing length theory, the simple phenomenological description widely used in stellar evolution models. Under mixing length theory, convective properties of low-mass stars are typically assumed to be qualitatively similar to those in the Sun, within some scaling factor. I will present results from ongoing investigations that explore the validity of this assumption through an empirical calibration of the mixing length parameter. Particular attention will be given to disagreements between empirical constraints and predictions from detailed radiation-hydrodynamic simulations. Potential explanations for the noted disagreements will be discussed."
   ]
  },
  {
   "cell_type": "markdown",
   "metadata": {},
   "source": [
    "---"
   ]
  },
  {
   "cell_type": "markdown",
   "metadata": {},
   "source": [
    "### Convection in Low-Mass Stars\n",
    "\n",
    "Dartmouth College, Friday Physics & Astronomy Colloquium (25 September 2015)\n",
    "\n",
    "__Abstract__\n",
    "\n",
    "A majority of stars in the Galaxy are low-mass main-sequence stars. These stars are fusing hydrogen in their core and have convective outer layers. Convection is an important physical process that controls the transport of energy within low-mass stars. Therefore, convection influences the whole of a star's interior structure and many of a star's observable properties. Briefly, I will review the basic physics of stellar convection along with a simple phenomenological description used in models of stellar evolution. The latter provide a description of a star's life history. Under the simplified model of convection, it is typically assumed that convective properties are qualitatively similar to those of the Sun within some scaling factor. I'll present results from ongoing investigations that explore the validity of this assumption within the framework of stellar evolution models. These investigations provide empirical constraints on how convection in other stars scales to solar convective properties. Particular attention will be given to disagreements between empirical constraints and predictions from detailed radiation-hydrodynamic simulations. Potential explanations for the observed disagreements will be discussed along with possible ways forward.\n",
    "\n",
    "\n",
    "__Additional Notes__:\n",
    "\n",
    "Connection: The surface of Sun is characterized by a granulation pattern that is the visible manifestation of convection occuring in the solar photospheric layers. \n",
    "\n",
    "Questions: What is convection like on other stars? Do the fundamental properties of convection vary from star to star? Are they dependent on a star's specific properties, such as its mass, composition, or average surface temperature? Finally, how do the properties of convection affect a star's evolutionary history and are there other complications about which we ought to be concerned?\n",
    "\n",
    "Motivation for 1D: Complex 3D simulations are used to probe these simulations, but are unable to evaluate the influence convection has on a star's evolutionary history."
   ]
  },
  {
   "cell_type": "markdown",
   "metadata": {},
   "source": [
    "---"
   ]
  },
  {
   "cell_type": "markdown",
   "metadata": {},
   "source": [
    "### Convection in Low-Mass Stellar Evolution, or \"What about magnetic fields?\"\n",
    "\n",
    "University of Texas at Austin, Astronomy Colloquium (22 September 2015)\n",
    "\n",
    "__Abstract__\n",
    "\n",
    "A majority of stars in the Galaxy are low-mass main-sequence stars that have convective outer layers. Convection is an important physical process, particularly in near surface layers, governing the observable properties of a star and influencing the whole of a star's interior structure. Briefly, I will review the basic physics of stellar convection and contrast it with mixing length theory, the simple phenomenological description widely used in stellar evolution models. Convective properties of low-mass stars under mixing length theory are typically assumed to be qualitatively similar to those in the Sun, within some scaling factor. I will present results from ongoing investigations that explore the validity of this assumption within the framework of mixing length theory and discuss disagreements with predictions from radiation-hydrodynamic simulations. Finally, I'll explore the role that magnetism plays in these discussions and whether it is responsible for the aforementioned disagreements, among other notable problems in stellar evolution theory."
   ]
  },
  {
   "cell_type": "markdown",
   "metadata": {},
   "source": [
    "---"
   ]
  },
  {
   "cell_type": "markdown",
   "metadata": {},
   "source": [
    "### Magnetic Fields, Starspots, and the Interior Structure of Young Low-Mass Stars\n",
    "\n",
    "Astronomdagarna 2015 (Uppsala, SE), Contributed Talk (22-24 October 2015)\n",
    "\n",
    "__Abstract__\n",
    "\n",
    "Young low-mass stars appear to all possess strong magnetic fields, as evidenced by high levels of magnetic activity in the form of starspots, as well as chromospheric and coronal emission. Despite their omnipresence, magnetic fields are routinely neglected in stellar interior structure and evolution models, threatening to compromise the accuracy of stellar model predictions and erode our confidence in ages derived for young stellar populations. In this talk, I will highlight efforts designed to understand whether magnetic fields and/or starspots are actively altering the interior structure of young low-mass stars and how these effects may bias young stellar ages."
   ]
  },
  {
   "cell_type": "markdown",
   "metadata": {},
   "source": [
    "---"
   ]
  },
  {
   "cell_type": "markdown",
   "metadata": {},
   "source": [
    "### Stellar evolution models of young stars: recent progress and fundamental limitations\n",
    "\n",
    "IAU Symposium 314: Young Stars and Planets Near the Sun (Atlanta, GA), Invited Review (12 May 2015)\n",
    "\n",
    "\n",
    "__Abstract__\n",
    "\n",
    "Stellar evolution models are a cornerstone of young star astrophysics, which necessitates that they yield accurate and reliable predictions of stellar properties. In this talk, I will review basic ingredients in standard stellar evolution models and the performance of standard models against young astrophysical benchmarks. I will then highlight recent progress incorporating new physics in modern stellar models, such as magnetic fields, starspots, and accretion, invoked to explain observed deficiencies. While addition of these physical processes leads to improved agreement between models and observations, I will demonstrate that there are fundamental limitations in our understanding of how these physical processes operate, inhibiting our ability to form a coherent picture of the essential physics needed to accurately compute young stellar models."
   ]
  },
  {
   "cell_type": "markdown",
   "metadata": {},
   "source": [
    "---"
   ]
  },
  {
   "cell_type": "markdown",
   "metadata": {},
   "source": [
    "### Something Strange in the Solar Neighborhood: Anomalous Properties of Low-Mass Stars\n",
    "\n",
    "Stockholm University, Astronomy Seminar (13 March 2015)\n",
    "\n",
    "__Abstract__\n",
    "\n",
    "Low-mass stellar evolution models are a cornerstone of modern astrophysics, particularly with the rise of asteroseismology and the search for extrasolar planets. It is therefore critical that stellar models provide accurate predictions of fundamental stellar properties (radius, effective temperature, luminosity). However, there is strong evidence suggesting that stellar evolution models are unable to predict the properties of low-mass stars. In this talk, I will discuss current problems faced by low-mass stellar models and the consequences of leaving these problems unresolved. I will also highlight results from studies aimed at revealing the source of disagreements between models and observations including: rotation, chemical composition, and magnetic fields."
   ]
  },
  {
   "cell_type": "markdown",
   "metadata": {},
   "source": [
    "---"
   ]
  },
  {
   "cell_type": "markdown",
   "metadata": {},
   "source": [
    "### Confronting predictions of stellar evolution theory: the case of single field M dwarf stars\n",
    "\n",
    "AAS 225 (Seattle, WA), Contributed Talk (05 January 2015)\n",
    "\n",
    "__Abstract__\n",
    "\n",
    "Using a homogenous sample of single field M dwarf stars from the CONCH-SHELL catalog,\n",
    "we confront the reliability of predictions from low mass stellar evolution models.\n",
    "Empirical values for the bolometric flux, effective temperature, and stellar radius\n",
    "are typically determined with better than 1%, 2%, and 5% precision, respectively.\n",
    "Coupled with precise [M/H] values, these observations place strong constraints on\n",
    "the accuracy of stellar models. A Markov Chain Monte Carlo (MCMC) formalism is used\n",
    "to establish the most likely stellar properties, with associated uncertainties, by interpolating\n",
    "within a dense grid of Dartmouth stellar evolution models with mass, age, metallicity,\n",
    "and distance as free parameters. The observed effective temperature and bolometric\n",
    "flux are adopted as independent observables in the MCMC likelihood function with\n",
    "the addition of the observed [M/H] and distance as informative Bayesian priors. Results are\n",
    "presented comparing model mass estimates to those from an empirical mass-luminosity calibration,\n",
    "and showing how well stellar models reproduce the observed radii, effective\n",
    "temperatures, and luminosities. Reliability of stellar models is then investigated\n",
    "as a function of mass, [M/H], equivalent width of H-alpha, and X-ray luminosity.\n",
    "Finally, we briefly discuss various physical mechanisms to explain the observed\n",
    "trends, particularly in the context of the hypothesis that magnetic activity is\n",
    "the source of model-observation discrepancies."
   ]
  },
  {
   "cell_type": "markdown",
   "metadata": {},
   "source": [
    "---"
   ]
  },
  {
   "cell_type": "markdown",
   "metadata": {},
   "source": [
    "### Something Strange in the Solar Neighborhood: Anomalous Properties of Low-Mass Stars\n",
    "\n",
    "Aarhus University, Astronomy Seminar (12 December 2014)\n",
    "\n",
    "__Abstract__\n",
    "\n",
    "Low-mass K and M dwarf stars are becoming increasingly targeted in exoplanet transit and\n",
    "radial velocity surveys. Their low mass, small radii, and low luminosity conspire to\n",
    "make Earth-sized planets in the stellar habitable zone relatively easier to detect\n",
    "than their counterparts around sun-like stars. Notably, properties of detected planets\n",
    "and planet candidates are defined relative to the host star, making knowledge\n",
    "about host star properties critical to our understanding of the exoplanet population.\n",
    "Stellar evolution models offer a fast and efficient means of fully characterizing\n",
    "properties of potential exoplanet host stars. However, there is strong evidence suggesting\n",
    "that stellar evolution models cannot accurately predict the properties of low-mass stars\n",
    "in the solar neighborhood. In this talk, I will discuss current problems posed by the\n",
    "low-mass star population, results from ongoing studies to uncover the physical origin\n",
    "for observed disagreements, and solutions investigated to redeem stellar evolution\n",
    "theory."
   ]
  },
  {
   "cell_type": "markdown",
   "metadata": {},
   "source": []
  }
 ],
 "metadata": {
  "kernelspec": {
   "display_name": "Python 2",
   "language": "python",
   "name": "python2"
  },
  "language_info": {
   "codemirror_mode": {
    "name": "ipython",
    "version": 2
   },
   "file_extension": ".py",
   "mimetype": "text/x-python",
   "name": "python",
   "nbconvert_exporter": "python",
   "pygments_lexer": "ipython2",
   "version": "2.7.12"
  }
 },
 "nbformat": 4,
 "nbformat_minor": 0
}
