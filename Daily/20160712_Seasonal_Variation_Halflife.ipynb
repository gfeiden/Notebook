{
 "cells": [
  {
   "cell_type": "markdown",
   "metadata": {},
   "source": [
    "# Seasonal Time Dilation due to Earth's Eccentric Orbit\n",
    "\n",
    "Just curious to see how large the effect is."
   ]
  },
  {
   "cell_type": "code",
   "execution_count": 1,
   "metadata": {
    "collapsed": true
   },
   "outputs": [],
   "source": [
    "%matplotlib inline\n",
    "import matplotlib.pyplot as plt\n",
    "import numpy as np"
   ]
  },
  {
   "cell_type": "markdown",
   "metadata": {},
   "source": [
    "Basic properties concerning Earth's orbit about the Sun and some of the physics parameters involved in the problem."
   ]
  },
  {
   "cell_type": "code",
   "execution_count": 16,
   "metadata": {
    "collapsed": true
   },
   "outputs": [],
   "source": [
    "d_perihelion = 1.47098074e11  # m\n",
    "d_aphelion   = 1.52097701e11  # m\n",
    "d_average    = 1.4959787e11   # m\n",
    "\n",
    "GMsun  = 1.3271244002e20      # m^3 s^-2\n",
    "MEarth = 5.9722e24            # kg\n",
    "\n",
    "c = 2.99792458e8              # m s^-1"
   ]
  },
  {
   "cell_type": "markdown",
   "metadata": {},
   "source": [
    "Based on these numbers, we can estimate the gravitational force at aphelion and perihelion to be"
   ]
  },
  {
   "cell_type": "code",
   "execution_count": 17,
   "metadata": {
    "collapsed": false
   },
   "outputs": [],
   "source": [
    "g_perihelion = GMsun*MEarth/np.power(d_perihelion, 2)\n",
    "g_aphelion   = GMsun*MEarth/np.power(d_aphelion, 2)\n",
    "g_average    = GMsun*MEarth/np.power(d_average, 2)"
   ]
  },
  {
   "cell_type": "markdown",
   "metadata": {},
   "source": [
    "Alternatively, we can base the estimate on the relative strength, which relieves uncertainties due to GMsun and MEarth."
   ]
  },
  {
   "cell_type": "code",
   "execution_count": 5,
   "metadata": {
    "collapsed": true
   },
   "outputs": [],
   "source": [
    "g_ratio = np.power(d_aphelion/d_perihelion, 2)"
   ]
  },
  {
   "cell_type": "markdown",
   "metadata": {},
   "source": [
    "We see that the strength of gravitational force between the Earth and Sun is about 7% larger at perihelion as compared to aphelion."
   ]
  },
  {
   "cell_type": "code",
   "execution_count": 6,
   "metadata": {
    "collapsed": false
   },
   "outputs": [
    {
     "name": "stdout",
     "output_type": "stream",
     "text": [
      "1.06913199477\n"
     ]
    }
   ],
   "source": [
    "print g_ratio"
   ]
  },
  {
   "cell_type": "markdown",
   "metadata": {},
   "source": [
    "Now we must convert the relative difference in gravitational force into a difference in time dilation for various processes. Since we're dealing with the Sun, we may adopt the Schwarzschild metric, which suggests\n",
    "\\begin{equation}\n",
    "    t_0 = t_f \\left( 1 - \\frac{r_s}{r} \\right)^{1/2}.\n",
    "\\end{equation}\n",
    "The Schwarzschild radius for the Sun is"
   ]
  },
  {
   "cell_type": "code",
   "execution_count": 8,
   "metadata": {
    "collapsed": true
   },
   "outputs": [],
   "source": [
    "r_s = 2.0*GMsun/np.power(c, 2)"
   ]
  },
  {
   "cell_type": "markdown",
   "metadata": {},
   "source": [
    "which allows us to compute the relative difference in $t_0$ based on the variable Earth-Sun distance."
   ]
  },
  {
   "cell_type": "code",
   "execution_count": 40,
   "metadata": {
    "collapsed": true
   },
   "outputs": [],
   "source": [
    "t0_ratio = np.sqrt(1.0 - (r_s / d_perihelion)) / np.sqrt(1.0 - (r_s / d_aphelion))\n",
    "t0_ratio_aphelion   = np.sqrt(1.0 - r_s / d_aphelion) / np.sqrt(1.0 - r_s / d_average)\n",
    "t0_ratio_perihelion = np.sqrt(1.0 - r_s / d_perihelion) / np.sqrt(1.0 - r_s / d_average)"
   ]
  },
  {
   "cell_type": "markdown",
   "metadata": {},
   "source": [
    "The ratio is "
   ]
  },
  {
   "cell_type": "code",
   "execution_count": 41,
   "metadata": {
    "collapsed": false
   },
   "outputs": [
    {
     "name": "stdout",
     "output_type": "stream",
     "text": [
      "0.99999999967\n"
     ]
    }
   ],
   "source": [
    "print t0_ratio"
   ]
  },
  {
   "cell_type": "markdown",
   "metadata": {},
   "source": [
    "which is small, but perhaps non-neligible when it comes to seasonal variations in the decay of Potassium-40, for example. In the case of the DAMA experiment, they have 250 kg of sodium iodide crystals with a small 20 ppb contamination of Potassium-40. Potassium-40 is radioactive with a long half-life of $1.251\\times10^9$ years. There are two primary decay channels: \n",
    "\\begin{equation}\n",
    "    ^{40}\\textrm{K}\\ \\rightarrow\\ ^{40}\\textrm{Ca} + \\beta^{-} + \\bar{\\nu}\n",
    "\\end{equation}\n",
    "and\n",
    "\\begin{equation}\n",
    "    ^{40}\\textrm{K} + \\beta^{-}\\ \\rightarrow\\ ^{40}\\textrm{Ar} + \\gamma + \\nu\n",
    "\\end{equation}\n",
    "which occur about 90% and 10% of the time, respectively.\n",
    "\n",
    "The molar mass of sodium iodide is 149.89 g mol$^{-1}$, meaning in 250 kg there are "
   ]
  },
  {
   "cell_type": "code",
   "execution_count": 13,
   "metadata": {
    "collapsed": false
   },
   "outputs": [
    {
     "name": "stdout",
     "output_type": "stream",
     "text": [
      "1667.88978584  moles of NaI,\n"
     ]
    }
   ],
   "source": [
    "moles_NaI = 250.0e3/149.89\n",
    "print moles_NaI, \" moles of NaI,\""
   ]
  },
  {
   "cell_type": "markdown",
   "metadata": {},
   "source": [
    "which translates into"
   ]
  },
  {
   "cell_type": "code",
   "execution_count": 14,
   "metadata": {
    "collapsed": false
   },
   "outputs": [
    {
     "name": "stdout",
     "output_type": "stream",
     "text": [
      "1.00442672243e+27 NaI molecules.\n"
     ]
    }
   ],
   "source": [
    "N_NaI = moles_NaI*6.022140857e23\n",
    "print N_NaI, \"NaI molecules.\""
   ]
  },
  {
   "cell_type": "markdown",
   "metadata": {},
   "source": [
    "Assuming the maximum contamination fraction for Potassium-40 of 20 ppb, there are roughly"
   ]
  },
  {
   "cell_type": "code",
   "execution_count": 15,
   "metadata": {
    "collapsed": false
   },
   "outputs": [
    {
     "name": "stdout",
     "output_type": "stream",
     "text": [
      "2.00885344486e+19 Potassium-40 atoms in the sample.\n"
     ]
    }
   ],
   "source": [
    "N_40K = 20.0*N_NaI/1.0e9\n",
    "print N_40K, \"Potassium-40 atoms in the sample.\""
   ]
  },
  {
   "cell_type": "markdown",
   "metadata": {},
   "source": [
    "Now our task is to estimate the approximate increase or decrease in Potassium-40 decays based on variations in the Sun-Earth gravitational potential."
   ]
  },
  {
   "cell_type": "markdown",
   "metadata": {},
   "source": [
    "During a single half-life for Potassium-40, approximately $1\\times10^{19}$ atoms decay. Given a mean half-life of $1.251\\times10^{9}$ years, there will be approximately "
   ]
  },
  {
   "cell_type": "code",
   "execution_count": 20,
   "metadata": {
    "collapsed": false
   },
   "outputs": [
    {
     "name": "stdout",
     "output_type": "stream",
     "text": [
      "253.297646099 decays per second on average.\n"
     ]
    }
   ],
   "source": [
    "decay_rate_average = 1.0e19/(1.251e9*60.0*60.0*24.0*365.256366)\n",
    "print decay_rate_average, \"decays per second on average.\""
   ]
  },
  {
   "cell_type": "markdown",
   "metadata": {},
   "source": [
    "The decay rate at perihelion and aphelion will be slightly different due to the gravitational potential of the Earth."
   ]
  },
  {
   "cell_type": "code",
   "execution_count": 21,
   "metadata": {
    "collapsed": false
   },
   "outputs": [
    {
     "name": "stdout",
     "output_type": "stream",
     "text": [
      "253.297646058 decays per second at aphelion.\n"
     ]
    }
   ],
   "source": [
    "decay_rate_aphelion = 1.0e19/(1.251e9*60.0*60.0*24.0*365.256366*t0_ratio_aphelion)\n",
    "print decay_rate_aphelion, \"decays per second at aphelion.\" "
   ]
  },
  {
   "cell_type": "code",
   "execution_count": 22,
   "metadata": {
    "collapsed": false
   },
   "outputs": [
    {
     "name": "stdout",
     "output_type": "stream",
     "text": [
      "253.297646141 decays per second at perihelion.\n"
     ]
    }
   ],
   "source": [
    "decay_rate_perihelion = 1.0e19/(1.251e9*60.0*60.0*24.0*365.256366*t0_ratio_perihelion)\n",
    "print decay_rate_perihelion, \"decays per second at perihelion.\""
   ]
  },
  {
   "cell_type": "markdown",
   "metadata": {},
   "source": [
    "Thus, during a given 24 hour period, one would expect"
   ]
  },
  {
   "cell_type": "code",
   "execution_count": 31,
   "metadata": {
    "collapsed": false
   },
   "outputs": [
    {
     "name": "stdout",
     "output_type": "stream",
     "text": [
      "21884916.6194 decays per day at aphelion and\n"
     ]
    }
   ],
   "source": [
    "decay_rate_aphelion = 1.0e19/(1.251e9*365.256366*t0_ratio_aphelion)\n",
    "print decay_rate_aphelion, \"decays per day at aphelion and\" "
   ]
  },
  {
   "cell_type": "code",
   "execution_count": 33,
   "metadata": {
    "collapsed": false
   },
   "outputs": [
    {
     "name": "stdout",
     "output_type": "stream",
     "text": [
      "21884916.6266 decays per day at perihelion.\n"
     ]
    }
   ],
   "source": [
    "decay_rate_perihelion = 1.0e19/(1.251e9*365.256366*t0_ratio_perihelion)\n",
    "print decay_rate_perihelion, \"decays per day at perihelion.\" "
   ]
  },
  {
   "cell_type": "markdown",
   "metadata": {},
   "source": [
    "which yields a difference of "
   ]
  },
  {
   "cell_type": "code",
   "execution_count": 42,
   "metadata": {
    "collapsed": false
   },
   "outputs": [
    {
     "name": "stdout",
     "output_type": "stream",
     "text": [
      "0.00722143054008 decays per day between summer and winter.\n"
     ]
    }
   ],
   "source": [
    "print decay_rate_perihelion - decay_rate_aphelion, \"decays per day between summer and winter.\""
   ]
  },
  {
   "cell_type": "markdown",
   "metadata": {},
   "source": [
    "which leads to a difference in "
   ]
  },
  {
   "cell_type": "code",
   "execution_count": 43,
   "metadata": {
    "collapsed": false
   },
   "outputs": [
    {
     "name": "stdout",
     "output_type": "stream",
     "text": [
      "2.88857221603e-05 decays per kg per day.\n"
     ]
    }
   ],
   "source": [
    "print (decay_rate_perihelion - decay_rate_aphelion)/250.0, \"decays per kg per day.\""
   ]
  },
  {
   "cell_type": "markdown",
   "metadata": {},
   "source": [
    "This level is far below the variation in counts per day observed by the DAMA experiment, which is approximately 0.05 cpd/kg/keV."
   ]
  }
 ],
 "metadata": {
  "kernelspec": {
   "display_name": "Python 2",
   "language": "python",
   "name": "python2"
  },
  "language_info": {
   "codemirror_mode": {
    "name": "ipython",
    "version": 2
   },
   "file_extension": ".py",
   "mimetype": "text/x-python",
   "name": "python",
   "nbconvert_exporter": "python",
   "pygments_lexer": "ipython2",
   "version": "2.7.9"
  }
 },
 "nbformat": 4,
 "nbformat_minor": 0
}
