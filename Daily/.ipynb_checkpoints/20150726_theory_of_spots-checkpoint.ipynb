{
 "cells": [
  {
   "cell_type": "markdown",
   "metadata": {},
   "source": [
    "**NOTE: This is under development and, consequently, appears as a working draft. Read at your own risk.**\n",
    "\n",
    "# A Theoretical Understanding of Spots\n",
    "\n",
    "Sunspots are dark blemishes that appear on the solar disk. There is strong evidence for the existence of counterparts on other stars, known as starspots. Here, I'll refer to them all collectively as \"spots\".\n",
    "\n",
    "![Image of a Sunspot from the SST](https://github.com/gfeiden/gfeiden.github.io/blob/master/img/sun_sunspot_sst.png)\n",
    "\n",
    "## Preliminaries\n",
    "\n",
    "Sunspots are approxiamtely 1 arcsec in size. Characterized by two regions: umbra and penumbra. Magnetic field strengths reach up to 4 kG in the central umbra, with a predominantly radial geometry (i.e., perpendicular to the solar surface).\n",
    "\n",
    "Sunspot cycles. Butterfly diagram. "
   ]
  },
  {
   "cell_type": "markdown",
   "metadata": {},
   "source": [
    "---\n",
    "\n",
    "## Extended Bibliography\n",
    "\n",
    "Below is a list of references that have informed my current understanding of the structure and formation of spots, the impact they have on their host star, and their observational signatures. If seminal works are missing from the bibliography below, please let me know by creating an issue. I've compiled only sources that I have personally read. To facilitate the development of a historical perspective regarding a theoretical understanding of spots (be they on the Sun or other stars), all references are listed chronologically in their respective category. \n",
    "\n",
    "### Books\n",
    "\n",
    "Bray & Loughhead ([1965, John Wiley and Sons Inc: New York](https://archive.org/details/Sunspots)) *Sunspots*\n",
    "\n",
    "### Reviews\n",
    "\n",
    "Solanki ([2003, A&ARev, 11, 153](http://adsabs.harvard.edu/abs/2003A%26ARv..11..153S)) *Sunspots: An overview*\n",
    "\n",
    "Berdyugina ([2005, LSRP, 2, 8](http://solarphysics.livingreviews.org/Articles/lrsp-2005-8/fulltext.html)) *Starspots: A Key to the Stellar Dynamo* \n",
    "\n",
    "Strassmeier ([2009, A&ARev, 17 251](http://adsabs.harvard.edu/abs/2009A%26ARv..17..251S)) *Starspots*\n",
    "\n",
    "Rempel & Schlichenmaier ([2011, LRSP, 8, 3](http://adsabs.harvard.edu/abs/2011LRSP....8....3R)) *Sunspot Modeling: From Simplified Models to Radiative MHD Simulations*\n",
    "\n",
    "### Sunspot Theory\n",
    "\n",
    "Deinzer ([1965, ApJ, 141, 584](http://adsabs.harvard.edu/abs/1965ApJ...141..548D)) *On the Magneto-Hydrostatic Theory of Sunspots*\n",
    "\n",
    "Gough & Taylor ([1966, MNRAS, 133, 85](http://adsabs.harvard.edu/abs/1966MNRAS.133...85G)) *The influence of a magnetic field on Schwarzschild's criterion for convective instability in an ideally conducting fluid*\n",
    "\n",
    "Yun ([1970, ApJ, 162, 975](http://adsabs.harvard.edu/abs/1970ApJ...162..975Y)) *Theoretical Models of Sunspots*\n",
    "\n",
    "Spruit ([1977, SoPh, 55, 3](http://adsabs.harvard.edu/abs/1977SoPh...55....3S)) *Heat flow near obstacles in the solar convection zone*\n",
    "\n",
    "Jahn & Schmidt ([1994, A&A, 290, 295](http://adsabs.harvard.edu/abs/1994A%26A...290..295J)) *Thick penumbra in a magnetostatic sunspot model*\n",
    "\n",
    "### Starspot Theory\n",
    "\n",
    "Spruit ([1982a, A&A, 108, 348](http://adsabs.harvard.edu/abs/1982A%26A...108..348S)) *Effect of spots on a star's radius and luminosity*\n",
    "\n",
    "Spruit ([1982b, A&A, 108, 356](http://adsabs.harvard.edu/abs/1982A%26A...108..356S)) *The flow of heat near a starspot*\n",
    "\n",
    "Jahn & Stepien ([1984, AcA, 34, 1](http://adsabs.harvard.edu/abs/1984AcA....34....1J)) *Magnetic Starspots*\n",
    "\n",
    "Spruit & Weiss ([1986, A&A, 166, 167](http://adsabs.harvard.edu/abs/1986A%26A...166..167S)) *Colors and luminosities of stars with spots*\n",
    "\n",
    "Jackson & Jeffries ([2014, MNRAS, 441, 2111](http://adsabs.harvard.edu/abs/2014MNRAS.441.2111J)) *The effect of starspots on the radii of low-mass pre-main-sequence stars*\n",
    "\n",
    "Somers & Pinsonneault ([2015, ApJ, 807, 174](http://adsabs.harvard.edu/abs/2015ApJ...807..174S)) *Older and Colder: The Impact of Starspots on Pre-main-sequence Stellar Evolution*\n",
    "\n",
    "\n",
    "### Empirical Investigations\n",
    "\n",
    "O'Neal & Neff ([1997, AJ, 113, 1129](http://adsabs.harvard.edu/abs/1997AJ....113.1129O)) *OH/Hydroxyl 1.563 micron Absorption from Starspots on Active Stars*\n",
    "\n",
    "O'Neal, Neff, & Saar ([1998, ApJ, 507, 919](http://adsabs.harvard.edu/abs/1998ApJ...507..919O)) *Measurements of Starspot Parameters on Active Stars using Molecular Bands in Echelle Spectra*\n",
    "\n",
    "O'Neal et al. ([2004, AJ, 128, 1802](http://adsabs.harvard.edu/abs/2004AJ....128.1802O)) *Further Results of TiO-Band Observations of Starspots*\n",
    "\n",
    "Lockwood et al. ([2007, ApJS, 171, 260](http://adsabs.harvard.edu/abs/2007ApJS..171..260L)) *Patterns of Photometric and Chromospheric Variation among Sun-like Stars: A 20 Year Perspective*\n",
    "\n",
    "Hosey et al. ([2015, AJ, 150, 6](http://adsabs.harvard.edu/abs/2015AJ....150....6H)) *The Solar Neighborhood. XXXVI. The Long-term Photometric Variability of Nearby Red Dwarfs in the VRI Optical Bands*"
   ]
  },
  {
   "cell_type": "markdown",
   "metadata": {},
   "source": []
  }
 ],
 "metadata": {
  "kernelspec": {
   "display_name": "Python 2",
   "language": "python",
   "name": "python2"
  },
  "language_info": {
   "codemirror_mode": {
    "name": "ipython",
    "version": 2
   },
   "file_extension": ".py",
   "mimetype": "text/x-python",
   "name": "python",
   "nbconvert_exporter": "python",
   "pygments_lexer": "ipython2",
   "version": "2.7.10"
  }
 },
 "nbformat": 4,
 "nbformat_minor": 0
}
