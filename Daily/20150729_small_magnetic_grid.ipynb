{
 "cells": [
  {
   "cell_type": "markdown",
   "metadata": {},
   "source": [
    "# Young Star Magnetic Models\n",
    "\n",
    "Convergence of magnetic models is improved with a [new treatment of the peak magnetic field strength](http://nbviewer.ipython.org/github/gfeiden/Notebook/blob/master/Daily/20150728_peak_magnetic_field.ipynb) definition. Previously, it was defined as either $R_{\\rm peak} = 0.5R_{\\star}$ or $R_{\\rm peak} = R_{\\rm tach}$, where $R_{\\rm tach}$ is the radial location of the interface region between the stellar radiation and convection zones (i.e., the tachocline). This caused problems for young star models as models start off fully convective but develop radiative cores as the central temperature increases throughout its gravitational contraction. Magnetic fields therefore jumped rapidly from a fully convective treatment to a partially convective treatment, leading to excessively large interior magnetic field strengths. To avoid this problem, the peak magnetic field strength is treated as either $R_{\\rm peak} = 0.5R_{\\star}$ or $R_{\\rm peak} = R_{\\rm tach}$, _whichever is larger_, in all cases.\n",
    "\n",
    "Two small grids of magnetic models are computed with GS98 and GAS07 solar abundances. These may be incorporated into the Young Star manuscript, where we present models of young stars that have now been used in several publications (e.g., [Malo et al. 2014](http://adsabs.harvard.edu/abs/2014arXiv1406.6750M); [Herczeg & Hillenbrand 2015](http://adsabs.harvard.edu/abs/2015arXiv150506518H)). However, these models are computed, specifically, at the request of I. Song, who wishes to incorporate magnetic models into an analysis. The tracks themselves will not be incorporated into the GitHub repo, as publishing the full grid would require too much disk space, but they are available [upon request](mailto:gregory.a.feiden@gmail.com?subject=Magnetic model request)."
   ]
  },
  {
   "cell_type": "code",
   "execution_count": 1,
   "metadata": {
    "collapsed": true
   },
   "outputs": [],
   "source": [
    "%matplotlib inline\n",
    "import matplotlib.pyplot as plt\n",
    "import numpy as np"
   ]
  },
  {
   "cell_type": "markdown",
   "metadata": {},
   "source": [
    "## Magnetic Mass Tracks\n",
    "\n",
    "We'll start with loading mass tracks from the GAS07 solar abundance subset. These adopt surface boundary conditions from the MARCS model atmosphere structures. While we typically recommend surface boundary conditions be attached at an optical depth where $\\tau_{\\rm ross} \\ge 50$, the magnetic models are computed by fitting surface boundary conditions where $\\tau_{\\rm ross} \\ge 10$. Magnetic fields largely affect the super-adiabiatic layers near the stellar surface, with deeper field strenghts playing a less critical role ([Feiden & Chaboyer 2013](http://adsabs.harvard.edu/abs/2013ApJ...779..183F), [2014](http://adsabs.harvard.edu/abs/2014A%26A...571A..70F)). However, the motivation for attaching the boundary conditions at larger optical depths is to provide a better treatment of super-adiabatic layers where radiation and convection are both significnat contributors to the total energy flux ([Chabrier & Baraffe 1997](http://adsabs.harvard.edu/abs/1997A%26A...327.1039C)), which is in opposition to our efforts of including the effects of magnetic fields. \n",
    "\n",
    "We provide a compromise by fixing the surface boundary conditions at higher layer in the star. This provides a sufficiently large super-adiabatic layer to give the magnetic field a reasonable influence, while still providing a reliable estimate of the surface conditions that help set the overall thermal structure of the star."
   ]
  },
  {
   "cell_type": "code",
   "execution_count": 2,
   "metadata": {
    "collapsed": true
   },
   "outputs": [],
   "source": [
    "masses = np.arange(0.1, 0.96, 0.05)  # list of masses"
   ]
  },
  {
   "cell_type": "markdown",
   "metadata": {},
   "source": [
    "## Magnetic Isochrones\n",
    "\n",
    "Process the magnetic mass tracks into isochrones. Since mass tracks are computed with a relatively course mass resolution ($0.05 M_{\\odot}$), spline interpolation is used to smooth the resulting isochrones with a finer mass resolution. "
   ]
  },
  {
   "cell_type": "code",
   "execution_count": 5,
   "metadata": {
    "collapsed": true
   },
   "outputs": [],
   "source": [
    "from scipy.interpolate import interp1d\n",
    "\n",
    "ages = np.arange(5.0e6, 3.1e7, 1.0e6)  # ages requested"
   ]
  },
  {
   "cell_type": "code",
   "execution_count": 18,
   "metadata": {
    "collapsed": false
   },
   "outputs": [],
   "source": [
    "# open output file objects \n",
    "output_files = [open('files/dmestar_{:07.1f}myr_gas07_z+0.00_a+0.00_mag25kG.iso'.format(age/1.0e6), 'w') \n",
    "                for age in ages]\n",
    "\n",
    "trk_directory = '../../evolve/dmestar/trk/gas07/p000/a0/amlt2040/mag25kG'\n",
    "for mass in masses:\n",
    "    trk_filename = 'm{:04.0f}_GAS07_p000_p0_y26_mlt2.040_mag25kG.trk'.format(mass*1000.)\n",
    "    try:\n",
    "        gas07_trk = np.genfromtxt('{0}/{1}'.format(trk_directory, trk_filename), usecols=(0, 1, 2, 3, 4, 8))\n",
    "    except IOError:\n",
    "        continue\n",
    "    \n",
    "    # extract only relevant age chunk for easier interpolation\n",
    "    gas07_trk = np.array([time_step for time_step in gas07_trk if 1.0e6 <= time_step[0] <= 5.0e7])\n",
    "    \n",
    "    # generate linear interpolation curve as a function of age\n",
    "    try:\n",
    "        icurve = interp1d(gas07_trk[:, 0], gas07_trk[:, 1:], kind='linear', axis=0)\n",
    "    except IndexError:\n",
    "        continue\n",
    "    \n",
    "    # extract properties at the requested age\n",
    "    trk_props = icurve(ages)\n",
    "    \n",
    "    i = 0\n",
    "    for props in trk_props:\n",
    "        s = '{:6.3f}'.format(mass)\n",
    "        for prop in props:\n",
    "            s += '{:14.6f}'.format(prop)\n",
    "        s += '\\n'\n",
    "        output_files[i].write(s)\n",
    "        i += 1\n",
    "    #print \"{:4.2f} Mo Track Processed.\".format(mass)\n",
    "    \n",
    "# close output files\n",
    "for f in output_files:\n",
    "    f.close()"
   ]
  },
  {
   "cell_type": "markdown",
   "metadata": {},
   "source": [
    "Interpolate isochrones onto a finer mass grid."
   ]
  },
  {
   "cell_type": "code",
   "execution_count": 19,
   "metadata": {
    "collapsed": false
   },
   "outputs": [],
   "source": [
    "fine_mass_grid = np.arange(0.1, 0.95, 0.02)\n",
    "for age in ages:\n",
    "    iso_filename = 'files/dmestar_{:07.1f}myr_gas07_z+0.00_a+0.00_mag25kG.iso'.format(age/1.0e6)\n",
    "    isochrone = np.genfromtxt(iso_filename)\n",
    "    \n",
    "    # generate interpolation curves\n",
    "    icurve = interp1d(isochrone[:,0], isochrone, axis=0, kind='cubic')\n",
    "    \n",
    "    # interpolate onto a finer mass grid\n",
    "    fine_isochrone = icurve(fine_mass_grid)\n",
    "    \n",
    "    # write header\n",
    "    header  = 'Dartmouth Stellar Evolution Model: Quick Isochrone \\n\\n'\n",
    "    header += 'Age = {:7.1f} Myr   [Fe/H] = {:+5.2f}   [a/Fe] = {:+5.2f} \\n\\n'.format(age/1.e6, 0.0, 0.0)\n",
    "    header += '{:^14} {:^14} {:^14} {:^14} {:^14} {:^14}'.format('Mass', 'log(Teff)', 'log(g)', 'log(L/Lo)', \n",
    "                                                                 'log(R/Ro)', 'A(Li)')\n",
    "    \n",
    "    # overwrite original file\n",
    "    np.savetxt(iso_filename, fine_isochrone, fmt='%14.6f', header=header)"
   ]
  },
  {
   "cell_type": "markdown",
   "metadata": {},
   "source": [
    "Magnetic isochrones are stored in the directory `files/` and follow the format outline in the two code snippets above. We can take a quick look at some of the proeprties of these isochrones and how they compare to standard stellar evolution isochrones (i.e., without a magnetic perturbation)."
   ]
  },
  {
   "cell_type": "code",
   "execution_count": null,
   "metadata": {
    "collapsed": true
   },
   "outputs": [],
   "source": []
  }
 ],
 "metadata": {
  "kernelspec": {
   "display_name": "Python 2",
   "language": "python",
   "name": "python2"
  },
  "language_info": {
   "codemirror_mode": {
    "name": "ipython",
    "version": 2
   },
   "file_extension": ".py",
   "mimetype": "text/x-python",
   "name": "python",
   "nbconvert_exporter": "python",
   "pygments_lexer": "ipython2",
   "version": "2.7.9"
  }
 },
 "nbformat": 4,
 "nbformat_minor": 0
}
