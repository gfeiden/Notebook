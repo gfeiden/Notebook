{
 "cells": [
  {
   "cell_type": "markdown",
   "metadata": {},
   "source": [
    "# A Theoretical Understanding of Spots\n",
    "\n"
   ]
  },
  {
   "cell_type": "markdown",
   "metadata": {},
   "source": [
    "---\n",
    "\n",
    "## Extended Bibliography\n",
    "\n",
    "Below is a list of references that have informed my current understanding of the structure and formation of spots, the impact they have on their host star, and their observational signatures. If seminal works are missing from the bibliography below, please let me know, I've only compiled sources that I have personally read. To facilitate the development of a historical perspective regarding a scholarly understanding of spots (be they on the Sun or other stars), all references are listed chronologically. \n",
    "\n",
    "### Books\n",
    "\n",
    "Bray & Loughhead ([1964, Chapman & Hall](https://archive.org/details/Sunspots)) *Sunspots*\n",
    "\n",
    "### General Reviews\n",
    "\n",
    "Solanki ([2003, A&ARev, 11, 153](http://adsabs.harvard.edu/abs/2003A%26ARv..11..153S)) *Sunspots: An overview*\n",
    "\n",
    "Berdyugina ([2005, LSRP, 2, 8](http://solarphysics.livingreviews.org/Articles/lrsp-2005-8/fulltext.html)) *Starspots: A Key to the Stellar Dynamo* \n",
    "\n",
    "Strassmeier ([2009, A&ARev, 17 251](http://adsabs.harvard.edu/abs/2009A%26ARv..17..251S)) *Starspots*\n",
    "\n",
    "### Sunspot Theory\n",
    "\n",
    "Deinzer ([1965, ApJ, 141, 584](http://adsabs.harvard.edu/abs/1965ApJ...141..548D)) *On the Magneto-Hydrostatic Theory of Sunspots*\n",
    "\n",
    "Yun ([1970, ApJ, 162, 975](http://adsabs.harvard.edu/abs/1970ApJ...162..975Y)) *Theoretical Models of Sunspots*\n",
    "\n",
    "Spruit ([1977, SoPh, 55, 3](http://adsabs.harvard.edu/abs/1977SoPh...55....3S)) *Heat flow near obstacles in the solar convection zone*\n",
    "\n",
    "### Starspot Theory\n",
    "\n",
    "Spruit ([1982a, A&A, 108, 348](http://adsabs.harvard.edu/abs/1982A%26A...108..348S)) *Effect of spots on a star's radius and luminosity*\n",
    "\n",
    "Spruit ([1982b, A&A, 108, 356](http://adsabs.harvard.edu/abs/1982A%26A...108..356S)) *The flow of heat near a starspot*\n",
    "\n",
    "Spruit & Weiss ([1986, A&A, 166, 167](http://adsabs.harvard.edu/abs/1986A%26A...166..167S)) *Colors and luminosities of stars with spots*"
   ]
  },
  {
   "cell_type": "markdown",
   "metadata": {},
   "source": []
  }
 ],
 "metadata": {
  "kernelspec": {
   "display_name": "Python 2",
   "language": "python",
   "name": "python2"
  },
  "language_info": {
   "codemirror_mode": {
    "name": "ipython",
    "version": 2
   },
   "file_extension": ".py",
   "mimetype": "text/x-python",
   "name": "python",
   "nbconvert_exporter": "python",
   "pygments_lexer": "ipython2",
   "version": "2.7.9"
  }
 },
 "nbformat": 4,
 "nbformat_minor": 0
}
