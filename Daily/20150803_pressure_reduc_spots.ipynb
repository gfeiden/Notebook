{
 "cells": [
  {
   "cell_type": "markdown",
   "metadata": {},
   "source": [
    "# On the Reduced Gas Pressure in Spots\n",
    "\n"
   ]
  },
  {
   "cell_type": "markdown",
   "metadata": {},
   "source": [
    "What is the gas temerature expected within a spot if _only_ a reduction in gas temperature is accounted for, owing to the presence of a magnetic pressure term? \n",
    "\n",
    "We'll begin under the assumption that the gas is subject to a polytropic equation of state such that\n",
    "\n",
    "\\begin{equation}\n",
    "    P_{\\rm gas} = K \\rho^{\\gamma},\n",
    "\\end{equation}\n",
    "\n",
    "where $P_{\\rm gas}$ is the thermal gas pressure, $K$ is a constant of proportionality, $\\rho$ is the gas density, and $\\gamma$ is the ratio of specific heats. We will also assume, for simplicity, that the magnetic field is in equipartition with the gas, meaning that the internal energy of the gas, $U_{\\rm gas}$, is equal to the energy of the magnetic field, $U_{\\rm mag}$. Finally, if we assume the gas can be described as ideal, then we know that $\\gamma = 5/3$, $P_{\\rm gas} = nkT$, and $U_{\\rm gas} = 3nkT/2 = 3P_{\\rm gas}/2$.\n",
    "\n",
    "It's possible to re-write the ideal gas equation of state by substituting the gas (mass) density for the gas number density using the mean molecular weight, $\\mu$. We then have that $n = \\rho/(\\mu m_H)$, where $m_p$ is the mass of a proton. Thus,\n",
    "\n",
    "\\begin{equation}\n",
    "    P_{\\rm gas} = \\frac{\\rho}{\\mu m_p}kT.\n",
    "\\end{equation}\n",
    "\n",
    "Utilizing Equation (1), however, we find that\n",
    "\n",
    "\\begin{equation}\n",
    "    P_{\\rm gas}^{(\\gamma - 1)/\\gamma} = \\frac{k}{K \\mu m_p}T = \\mathbb{K} T.\n",
    "\\end{equation}\n",
    "\n",
    "where we have collected all constants to define a new constant $\\mathbb{K}$. Note that the mean molecular weight is here taken to be constant with $\\mu = 1$ (pure hydrogen gas), for simplicity. \n",
    "\n",
    "Neglecting magnetic tension forces, the magnetic pressure is equal to the magnetic energy and is spatially isotropic, $P_{\\rm mag} = U_{\\rm mag} = B^2 / 8\\pi$. Since the magnetic field is in energy equipartition with the gas, we have \n",
    "\n",
    "\\begin{equation}\n",
    "    U_{\\rm mag} = \\frac{B^2}{8\\pi} = \\frac{3}{2}P_{\\rm gas},\n",
    "\\end{equation}\n",
    "\n",
    "which provides a convenient estimate of the magnetic field strength at any given point in the gas. If we assume that the total pressure at a given point must be the same, regardless of the presence of a magnetic field, then we can write that\n",
    "\n",
    "\\begin{equation}\n",
    "    P_{\\rm tot} = P_{\\rm gas} + \\frac{B^2}{8\\pi} = \\frac{5}{2} P_{\\rm gas},\n",
    "\\end{equation}\n",
    "\n",
    "which must be equivalent to the total pressure when no magnetic field is present (i.e., the gas pressure in the absence of a magnetic field),\n",
    "\n",
    "\\begin{equation}\n",
    "    P_{\\rm tot} \\equiv P_{\\rm gas,\\, 0} = \\frac{5}{2}P_{\\rm gas}\n",
    "\\end{equation}\n",
    "\n",
    "where $P_{\\rm gas,\\, 0}$ is the gas pressure in the absence of a magnetic field. \n",
    "\n",
    "Under these approximations, we can estimate the change in gas temperature caused by the presence of a magnetic field, neglecting effects related to the _transport_ of energy. Using Equation (3), we can write\n",
    "\n",
    "\\begin{equation}\n",
    "    \\frac{T_{\\rm gas}}{T_{\\rm gas,\\, 0}} = \\left(\\frac{2}{5}\\right)^{(\\gamma - 1)/\\gamma} = \\left(\\frac{2}{5}\\right)^{2/5} \\approx 0.693.\n",
    "\\end{equation}"
   ]
  },
  {
   "cell_type": "markdown",
   "metadata": {},
   "source": [
    "In the case of the Sun, if we take the background photospheric temperature to be approximately 5779 K, then a rough estimate for the temperature within a sunspot would be 4000 K, or 1779 K cooler than the background photosphere. Quite surprisingly, this agrees with rough estimates for the temperatures within starspot umbra (Solanki 2003).\n",
    "\n",
    "If, instead, the magnetic pressure were equal to the gas pressure within a spot, the umbral temperature ratio would be equal to\n",
    "\n",
    "\\begin{equation}\n",
    "    \\frac{T_{\\rm gas}}{T_{\\rm gas,\\, 0}} = \\left(\\frac{1}{2}\\right)^{(\\gamma - 1)/\\gamma} = \\left(\\frac{1}{2}\\right)^{2/5} \\approx 0.758,\n",
    "\\end{equation}\n",
    "\n",
    "which implies spot temperatures of order 4300 K. Again, consistent with observations of umbral temperatures.\n",
    "\n",
    "Given agreement between estimated this simple estimate of umbral temperatures and estimates from starspot observations, what further consequences might lead to the exclusion of this hypothesis for the cooler nature of sunspots?\n",
    "\n",
    "Development from the presence of a strong concentration of magnetic flux to the appearance of sunspot pores, if goverend by the thermal evolution of the gas, must occur on a timescale related to the sound crossing time. It is only over this timescale that the gas can effectively communicate information about the presence of the magnetic field. Typical sunspot pores are on the order of 1 Mm in size (Bray & Loughhead 1964) and the adiabatic speed of sound at the solar surface is on the order of 8 km/s. The latter is not exact, but provides a starting point.\n",
    "\n",
    "\\begin{equation}\n",
    "    \\tau = \\frac{R_{\\rm pore}}{c_s} \\sim \\frac{10^3}{10^1} \\textrm{ s} = 10^2 \\textrm{ s},\n",
    "\\end{equation}\n",
    "\n",
    "or approximately 2 minutes. The sound crossing time is, therefore, quite small compared to the pore formation timescale, which is estimated to be between several hours and several days. Limitations imposed by the sound crossing time are therefore not significant.\n",
    "\n",
    "It is possible, however, that the process of magnetic suppression of convection and the cooling of the photospheric layers are intertwined. Suppression of convection is the result of the interaction of convective flows with the magnetic field via Lorentz forces. These forces are the same forces that lead to the isotropic pressure that could potentially be responsible for the cooling of the layers by offsetting the gas pressure required to maintain hydrostatic equilibrium.\n",
    "\n",
    "---\n",
    "\n",
    "### Potential description\n",
    "\n",
    "The presence of a magnetic field in a plasma would cause a general cooling of the surface layers, in the event that the system was left to equilibrate. Since the sound crossing time is on the order of 2 minutes, this is expected to occur quite rapidly. However, the surface is not static, as convective updrafts are constantly supplying fresh, warm material to the surface. Convection in the near surface layers has an overturn time of order several minutes (solar granulation timescale), of the same order as the time required for the material to arrive in equilibrium with the magnetic field. Therefore, it may be unlikely for the magnetic field to efficiently cool the gas until the system is unable to supply warm material from deeper layers. This is particularly important since, as a glob of plasma may cool, it will have a tendency to sink while convection occurs. Suppression of convection starves the upper layers of warm material and prevents cooler material from traveling inward, permitting the gas in the near surface layers to equilibrate to a cooler temperature, as dictated by the additional pressure contribution to the equation of state. \n",
    "\n",
    "Needs validation."
   ]
  },
  {
   "cell_type": "markdown",
   "metadata": {},
   "source": []
  }
 ],
 "metadata": {
  "kernelspec": {
   "display_name": "Python 2",
   "language": "python",
   "name": "python2"
  },
  "language_info": {
   "codemirror_mode": {
    "name": "ipython",
    "version": 2
   },
   "file_extension": ".py",
   "mimetype": "text/x-python",
   "name": "python",
   "nbconvert_exporter": "python",
   "pygments_lexer": "ipython2",
   "version": "2.7.9"
  }
 },
 "nbformat": 4,
 "nbformat_minor": 0
}
